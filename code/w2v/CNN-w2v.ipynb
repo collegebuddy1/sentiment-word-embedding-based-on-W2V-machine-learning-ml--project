{
 "metadata": {
  "name": ""
 },
 "nbformat": 3,
 "nbformat_minor": 0,
 "worksheets": [
  {
   "cells": [
    {
     "cell_type": "code",
     "collapsed": false,
     "input": [
      "#=====================\u52a0\u8f7d\u8981\u7528\u5230\u7684\u6a21\u5757=======================#\n",
      "#\u6b64\u6a21\u5757\u662f\u4e3a\u4e86\u548cpython3.x\u517c\u5bb9\n",
      "from __future__ import print_function\n",
      "\n",
      "#\u52a0\u8f7dnumpy\u6a21\u5757\uff0c\u8981\u7528\u5230np.array\n",
      "import numpy as np\n",
      "#\u52a0\u8f7dtensorflow\u6a21\u5757\uff0c\u8981\u7528\u5230\u8ba1\u7b97\u56fe\u7b49\n",
      "import tensorflow as tf\n",
      "#\u52a0\u8f7dmatplotlib\u6a21\u5757\uff0c\u8981\u753b\u56fe\u7528\n",
      "import matplotlib.pyplot as plt\n",
      "#\u52a0\u8f7dclassification_report,\u5c55\u793a\u7ed3\u679c\u7528\n",
      "from sklearn.metrics import classification_report"
     ],
     "language": "python",
     "metadata": {},
     "outputs": [
      {
       "output_type": "stream",
       "stream": "stderr",
       "text": [
        "/usr/local/lib/python2.7/dist-packages/sklearn/cross_validation.py:44: DeprecationWarning: This module was deprecated in version 0.18 in favor of the model_selection module into which all the refactored classes and functions are moved. Also note that the interface of the new CV iterators are different from that of this module. This module will be removed in 0.20.\n",
        "  \"This module will be removed in 0.20.\", DeprecationWarning)\n"
       ]
      }
     ],
     "prompt_number": 1
    },
    {
     "cell_type": "code",
     "collapsed": false,
     "input": [
      "####\u8bfb\u5165data\uff08\u53e5\u5b50\u7d22\u5f15\u6587\u4ef6\uff09\uff0c\u5e76\u5728\u8fd9\u91cc\u53ef\u8bbe\u7f6e\u662f\u5426\u8bbe\u7f6e\u6700\u5927\u53e5\u5b50\u957f\u5ea6\uff0c\u5904\u7406\u6210array####\n",
      "#\u8f93\u5165\uff1a\u53e5\u5b50\u7d22\u5f15\u6587\u4ef6\u540d\uff08\u7edd\u5bf9\u8def\u5f84\uff09\uff0c\u6700\u5927\u53e5\u5b50\u957f\u5ea6\uff08int\uff09\uff0c\u662f\u5426\u8bbe\u7f6e\u6700\u5927\u957f\u5ea6\uff080\u62161\uff09\n",
      "#\u8f93\u51fa\uff1a\u5904\u7406\u597d\u7684np.array\n",
      "def readSentence2Array(sentenceFileName,inputMaxLength = 16 , inputMaxLengthFlag = 1):\n",
      "    file = open(sentenceFileName,'r')\n",
      "    lines = file.readlines()\n",
      "    sentenceList = []\n",
      "    for line in lines:\n",
      "        splitList = line.strip().split(' ')\n",
      "        sentenceList.append(splitList)\n",
      "    maxLength = len(sentenceList[0])\n",
      "    for row in sentenceList:\n",
      "        if maxLength <= len(row):\n",
      "            maxLength = len(row)\n",
      "    if inputMaxLengthFlag == 0: \n",
      "        for row in sentenceList:\n",
      "            for i in range(len(row),maxLength):\n",
      "                row.append('0')\n",
      "                \n",
      "    elif inputMaxLengthFlag == 1:\n",
      "        temp_list = []\n",
      "        for row in sentenceList:\n",
      "            if len(row) < inputMaxLength:\n",
      "                for i in range(len(row),inputMaxLength):\n",
      "                    row.append('0')\n",
      "                temp_list.append(row)\n",
      "            elif len(row) >= inputMaxLength:\n",
      "                temp_list.append(row[0:inputMaxLength])\n",
      "        sentenceList = temp_list\n",
      "        \n",
      "    numSentenceList = strList2numList2D(sentenceList)\n",
      "    print (np.array(numSentenceList))\n",
      "    return np.array(numSentenceList)\n",
      "\n",
      "def strList2numList2D(strlist):\n",
      "    copyList = []\n",
      "    for sentence in strlist:\n",
      "        temp_list = []\n",
      "        for number in sentence:\n",
      "            temp_list.append(int(number))\n",
      "        copyList.append(temp_list)\n",
      "    return copyList\n",
      "\n",
      "def readLabelFile2Array(LabelFileName):\n",
      "    file = open(LabelFileName,'r')\n",
      "    lines = file.readlines()\n",
      "    labelList = []\n",
      "    for line in lines:\n",
      "        splitList = line.strip()\n",
      "        labelList.append(splitList)\n",
      "    return np.array(labelList)\n",
      "\n",
      "\n",
      "savedArrayFile = r'/media/huxi/\u65b0\u52a0\u53771/SCI_aim/experiment/code/final_word2Vec/goal_data_label/vocabularyEmbedding.npy'\n",
      "wordEmbedding = np.load(savedArrayFile)\n",
      "\n",
      "lengthEmbedding = np.shape(wordEmbedding)[1]#\u8bcd\u5411\u91cf\u957f\u5ea6\n",
      "lengthVocabulary = np.shape(wordEmbedding)[0]#\u8bcd\u5178\u957f\u5ea6\n",
      "\n",
      "sentenceFileName = r'/media/huxi/\u65b0\u52a0\u53771/SCI_aim/experiment/code/final_word2Vec/goal_data_label/goal_data.txt'\n",
      "sentenceArray = readSentence2Array(sentenceFileName)\n",
      "num_array = np.shape(sentenceArray)[0]#\u53e5\u5b50\u6761\u6570\n",
      "sentenceLength = np.shape(sentenceArray)[1]#\u53e5\u5b50\u957f\u5ea6\n",
      "print (sentenceLength)\n",
      "\n",
      "train_dataset = sentenceArray[0:int(num_array*0.8)]\n",
      "#train_labels = save['train_labels']\n",
      "valid_dataset = sentenceArray[int(num_array*0.8):int(num_array*0.8)+int(num_array*0.1)]\n",
      "#valid_labels = save['valid_labels']\n",
      "test_dataset = sentenceArray[int(num_array*0.8)+int(num_array*0.1):]\n",
      "#test_labels = save['test_labels']\n",
      "\n",
      "LabelFileName =  r'/media/huxi/\u65b0\u52a0\u53771/SCI_aim/experiment/code/final_word2Vec/goal_data_label/goal_label.txt'\n",
      "labels = readLabelFile2Array(LabelFileName)\n",
      "\n",
      "train_labels = labels[0:int(num_array*0.8)]\n",
      "valid_labels = labels[int(num_array*0.8):int(num_array*0.8)+int(num_array*0.1)]\n",
      "test_labels = labels[int(num_array*0.8)+int(num_array*0.1):]\n",
      "#del save  # hint to help gc free up memory\n",
      "#print (train_labels)\n",
      "print('Training set', train_dataset.shape, train_labels.shape)\n",
      "print('Validation set', valid_dataset.shape, valid_labels.shape)\n",
      "print('Test set', test_dataset.shape, test_labels.shape)"
     ],
     "language": "python",
     "metadata": {},
     "outputs": [
      {
       "output_type": "stream",
       "stream": "stdout",
       "text": [
        "[[5108 5119 4645 ...,    0    0    0]\n",
        " [6764 6271 3765 ...,    0    0    0]\n",
        " [3406 6013 5178 ...,    0    0    0]\n",
        " ..., \n",
        " [7890 2022 5242 ...,  740 3188 2684]\n",
        " [8168 9029 1482 ...,    0    0    0]\n",
        " [6149  972 6025 ...,    0    0    0]]\n",
        "16\n",
        "Training set"
       ]
      },
      {
       "output_type": "stream",
       "stream": "stdout",
       "text": [
        " (4800, 16) (4800,)\n",
        "Validation set (600, 16) (600,)\n",
        "Test set (600, 16) (600,)\n"
       ]
      }
     ],
     "prompt_number": 2
    },
    {
     "cell_type": "code",
     "collapsed": false,
     "input": [
      "num_labels = 3\n",
      "num_channels = 1\n",
      "\n",
      "\n",
      "def reformat(dataset,labels):\n",
      "  label_T  = []\n",
      "  #print (labels)\n",
      "  dataset = dataset.reshape((dataset.shape[0], dataset.shape[1], num_channels))\n",
      "  for label in labels:\n",
      "        #print (type(label))\n",
      "        if label == '-1':\n",
      "            label_T.append([1,0,0])\n",
      "        elif label == '0':\n",
      "            label_T.append([0,1,0])\n",
      "        elif label == '1':\n",
      "            label_T.append([0,0,1])\n",
      "  newLabels = np.array(label_T)\n",
      "  return dataset,newLabels\n",
      "train_dataset, train_labels = reformat(train_dataset, train_labels)\n",
      "valid_dataset, valid_labels = reformat(valid_dataset, valid_labels)\n",
      "test_dataset, test_labels = reformat(test_dataset, test_labels)\n",
      "print('Training set', train_dataset.shape, train_labels.shape)\n",
      "print('Validation set', valid_dataset.shape, valid_labels.shape)\n",
      "print('Test set', test_dataset.shape, test_labels.shape)"
     ],
     "language": "python",
     "metadata": {},
     "outputs": [
      {
       "output_type": "stream",
       "stream": "stdout",
       "text": [
        "Training set (4800, 16, 1) (4800, 3)\n",
        "Validation set (600, 16, 1) (600, 3)\n",
        "Test set (600, 16, 1) (600, 3)\n"
       ]
      }
     ],
     "prompt_number": 3
    },
    {
     "cell_type": "code",
     "collapsed": false,
     "input": [
      "def accuracy(predictions, labels):\n",
      "  return (100.0 * np.sum(np.argmax(predictions, 1) == np.argmax(labels, 1))\n",
      "          / predictions.shape[0])"
     ],
     "language": "python",
     "metadata": {},
     "outputs": [],
     "prompt_number": 4
    },
    {
     "cell_type": "code",
     "collapsed": false,
     "input": [
      "def show_values(pc, fmt=\"%.2f\", **kw):\n",
      "    '''\n",
      "    Heatmap with text in each cell with matplotlib's pyplot\n",
      "    Source: http://stackoverflow.com/a/25074150/395857 \n",
      "    By HYRY\n",
      "    '''\n",
      "    from itertools import izip\n",
      "    pc.update_scalarmappable()\n",
      "    ax = pc.get_axes()\n",
      "    for p, color, value in izip(pc.get_paths(), pc.get_facecolors(), pc.get_array()):\n",
      "        x, y = p.vertices[:-2, :].mean(0)\n",
      "        if np.all(color[:3] > 0.5):\n",
      "            color = (0.0, 0.0, 0.0)\n",
      "        else:\n",
      "            color = (1.0, 1.0, 1.0)\n",
      "        ax.text(x, y, fmt % value, ha=\"center\", va=\"center\", color=color, **kw)\n",
      "\n",
      "\n",
      "def cm2inch(*tupl):\n",
      "    '''\n",
      "    Specify figure size in centimeter in matplotlib\n",
      "    Source: http://stackoverflow.com/a/22787457/395857\n",
      "    By gns-ank\n",
      "    '''\n",
      "    inch = 2.54\n",
      "    if type(tupl[0]) == tuple:\n",
      "        return tuple(i/inch for i in tupl[0])\n",
      "    else:\n",
      "        return tuple(i/inch for i in tupl)\n",
      "\n",
      "\n",
      "def heatmap(AUC, title, xlabel, ylabel, xticklabels, yticklabels, figure_width=40, figure_height=20, correct_orientation=False, cmap='RdBu'):\n",
      "    '''\n",
      "    Inspired by:\n",
      "    - http://stackoverflow.com/a/16124677/395857 \n",
      "    - http://stackoverflow.com/a/25074150/395857\n",
      "    '''\n",
      "\n",
      "    # Plot it out\n",
      "    fig, ax = plt.subplots()    \n",
      "    #c = ax.pcolor(AUC, edgecolors='k', linestyle= 'dashed', linewidths=0.2, cmap='RdBu', vmin=0.0, vmax=1.0)\n",
      "    c = ax.pcolor(AUC, edgecolors='k', linestyle= 'dashed', linewidths=0.2, cmap=cmap)\n",
      "\n",
      "    # put the major ticks at the middle of each cell\n",
      "    ax.set_yticks(np.arange(AUC.shape[0]) + 0.5, minor=False)\n",
      "    ax.set_xticks(np.arange(AUC.shape[1]) + 0.5, minor=False)\n",
      "\n",
      "    # set tick labels\n",
      "    #ax.set_xticklabels(np.arange(1,AUC.shape[1]+1), minor=False)\n",
      "    ax.set_xticklabels(xticklabels, minor=False)\n",
      "    ax.set_yticklabels(yticklabels, minor=False)\n",
      "\n",
      "    # set title and x/y labels\n",
      "    plt.title(title)\n",
      "    plt.xlabel(xlabel)\n",
      "    plt.ylabel(ylabel)      \n",
      "\n",
      "    # Remove last blank column\n",
      "    plt.xlim( (0, AUC.shape[1]) )\n",
      "\n",
      "    # Turn off all the ticks\n",
      "    ax = plt.gca()    \n",
      "    for t in ax.xaxis.get_major_ticks():\n",
      "        t.tick1On = False\n",
      "        t.tick2On = False\n",
      "    for t in ax.yaxis.get_major_ticks():\n",
      "        t.tick1On = False\n",
      "        t.tick2On = False\n",
      "\n",
      "    # Add color bar\n",
      "    plt.colorbar(c)\n",
      "\n",
      "    # Add text in each cell \n",
      "    show_values(c)\n",
      "\n",
      "    # Proper orientation (origin at the top left instead of bottom left)\n",
      "    if correct_orientation:\n",
      "        ax.invert_yaxis()\n",
      "        ax.xaxis.tick_top()       \n",
      "\n",
      "    # resize \n",
      "    fig = plt.gcf()\n",
      "    #fig.set_size_inches(cm2inch(40, 20))\n",
      "    #fig.set_size_inches(cm2inch(40*4, 20*4))\n",
      "    fig.set_size_inches(cm2inch(figure_width, figure_height))\n",
      "\n",
      "\n",
      "\n",
      "def plot_classification_report(classification_report, title='Classification report ', cmap='RdBu'):\n",
      "    '''\n",
      "    Plot scikit-learn classification report.\n",
      "    Extension based on http://stackoverflow.com/a/31689645/395857 \n",
      "    '''\n",
      "    lines = classification_report.split('\\n')\n",
      "\n",
      "    classes = []\n",
      "    plotMat = []\n",
      "    support = []\n",
      "    class_names = []\n",
      "    for line in lines[2 : (len(lines) - 2)]:\n",
      "        t = line.strip().split()\n",
      "        if len(t) < 2: continue\n",
      "        classes.append(t[0])\n",
      "        v = [float(x) for x in t[1: len(t) - 1]]\n",
      "        support.append(int(t[-1]))\n",
      "        class_names.append(t[0])\n",
      "        print(v)\n",
      "        plotMat.append(v)\n",
      "\n",
      "    print('plotMat: {0}'.format(plotMat))\n",
      "    print('support: {0}'.format(support))\n",
      "\n",
      "    xlabel = 'Metrics'\n",
      "    ylabel = 'Classes'\n",
      "    xticklabels = ['Precision', 'Recall', 'F1-score']\n",
      "    yticklabels = ['{0} ({1})'.format(class_names[idx], sup) for idx, sup  in enumerate(support)]\n",
      "    figure_width = 25\n",
      "    figure_height = len(class_names) + 7\n",
      "    correct_orientation = False\n",
      "    heatmap(np.array(plotMat), title, xlabel, ylabel, xticklabels, yticklabels, figure_width, figure_height, correct_orientation, cmap=cmap)\n",
      "\n"
     ],
     "language": "python",
     "metadata": {},
     "outputs": [],
     "prompt_number": 5
    },
    {
     "cell_type": "code",
     "collapsed": false,
     "input": [
      "batch_size = 128\n",
      "filter_sizeList = [2,4,8,16]\n",
      "embedding_size = lengthEmbedding\n",
      "vocabulary_size = lengthVocabulary\n",
      "depth = 256\n",
      "num_hidden = 64\n",
      "beta = 0.001\n",
      "keep_drop = 0.7\n",
      "num_steps = 6001\n",
      "sequence_length = sentenceLength\n",
      "num_filters_total = depth * len(filter_sizeList)\n",
      "lr = 0.005\n",
      "\n",
      "graph = tf.Graph()\n",
      "\n",
      "with graph.as_default():\n",
      "\n",
      "  # Input data.\n",
      "  tf_train_dataset = tf.placeholder(\n",
      "    tf.int64, shape=(batch_size,sequence_length,1))\n",
      "  tf_train_labels = tf.placeholder(tf.float32, shape=(batch_size, num_labels))\n",
      "  tf_valid_dataset = tf.constant(valid_dataset)\n",
      "  tf_test_dataset = tf.constant(test_dataset)\n",
      "  #tf_pretrained_embedding = tf.placeholder(tf.float32, shape=(vocabulary_size,embedding_size))\n",
      "  #Variable\n",
      "  embeddings = tf.Variable(wordEmbedding,dtype=tf.float32)\n",
      "  #embeddings.assign(tf_pretrained_embedding)\n",
      "\n",
      "  layer1_weightsList = []\n",
      "  layer1_biasesList = []\n",
      "  for i in range(0,len(filter_sizeList)):\n",
      "      layer1_weightsList.append(tf.Variable(tf.truncated_normal([filter_sizeList[i], embedding_size, num_channels, depth], stddev=0.1)))\n",
      "      layer1_biasesList.append(tf.Variable(tf.zeros([depth])))\n",
      "        \n",
      "  #layer2_weights = tf.Variable(tf.truncated_normal([num_filters_total, num_hidden], stddev=0.1))\n",
      "  #layer2_biases = tf.Variable(tf.constant(1.0, shape=[num_hidden]))      \n",
      "        \n",
      "  layer3_weights = tf.Variable(tf.truncated_normal([num_filters_total, num_labels], stddev=0.1))\n",
      "  layer3_biases = tf.Variable(tf.constant(1.0, shape=[num_labels]))\n",
      "        \n",
      "  # Model.\n",
      "  def model(data,dropout_flag,filter_sizeList):\n",
      "            \n",
      "    embed = tf.nn.embedding_lookup(embeddings,data[:,:,0])\n",
      "    \n",
      "    newEmbed = tf.expand_dims(embed , -1)\n",
      "    \n",
      "    allMaxPoolingLayer = []\n",
      "    l2_loss_term = tf.constant(0.0)\n",
      "    i = 0\n",
      "    for filter_size in filter_sizeList:\n",
      "        conv = tf.nn.conv2d(newEmbed, layer1_weightsList[i], [1, 1 , 1, 1], padding='VALID',use_cudnn_on_gpu=True)\n",
      "        hidden = tf.nn.relu(conv + layer1_biasesList[i])\n",
      "        if dropout_flag == 1:\n",
      "            hidden = tf.nn.dropout(hidden,keep_drop)\n",
      "        pooling = tf.nn.max_pool(hidden, [ 1,sequence_length - filter_size + 1,1,1 ] , [1, 1,1, 1], padding='VALID')\n",
      "        allMaxPoolingLayer.append(pooling)\n",
      "        \n",
      "        l2_loss_term = l2_loss_term + tf.nn.l2_loss(layer1_weightsList[i]) + tf.nn.l2_loss(layer1_biasesList[i])\n",
      "        i = i+1\n",
      "    allMaxPoolingLayer_T = tf.concat(3,allMaxPoolingLayer)\n",
      "    \n",
      "    reshape = tf.reshape(allMaxPoolingLayer_T, [ -1, num_filters_total ])\n",
      "    if dropout_flag == 1:\n",
      "        reshape = tf.nn.dropout(reshape,keep_drop)\n",
      "\n",
      "    scores = tf.matmul(reshape, layer3_weights) + layer3_biases\n",
      "    l2_loss_term = l2_loss_term + tf.nn.l2_loss(layer3_weights) + tf.nn.l2_loss(layer3_biases)\n",
      "\n",
      "    return scores,l2_loss_term\n",
      "  \n",
      "  # Training computation.\n",
      "  #embedding.assign(tf_train_dataset)\n",
      "  logits,l2_loss_term = model(tf_train_dataset,1,filter_sizeList)\n",
      "  loss = tf.reduce_mean(\n",
      "    tf.nn.softmax_cross_entropy_with_logits(logits, tf_train_labels)) + beta* ( l2_loss_term )\n",
      "    \n",
      "  # Optimizer.\n",
      "  global_step = tf.Variable(0)  # count the number of steps taken.\n",
      "  learning_rate = tf.train.exponential_decay(lr, global_step, num_steps, 0.96)\n",
      "  optimizer = tf.train.GradientDescentOptimizer(learning_rate).minimize(loss, global_step=global_step)\n",
      "  \n",
      "  # Predictions for the training, validation, and test data.\n",
      "  train_prediction = tf.nn.softmax(logits)\n",
      "  valid_prediction = tf.nn.softmax(model(tf_valid_dataset,0,filter_sizeList)[0])\n",
      "  test_prediction = tf.nn.softmax(model(tf_test_dataset,0,filter_sizeList)[0])"
     ],
     "language": "python",
     "metadata": {},
     "outputs": [],
     "prompt_number": 30
    },
    {
     "cell_type": "code",
     "collapsed": false,
     "input": [
      "train_plot_x = []\n",
      "train_plot_y = []\n",
      "valid_plot_y = []\n",
      "\n",
      "with tf.Session(graph=graph) as session:\n",
      "  tf.initialize_all_variables().run()\n",
      "  print('Initialized')\n",
      "  for step in range(num_steps):\n",
      "    offset = (step * batch_size) % (train_labels.shape[0] - batch_size)\n",
      "    batch_data = train_dataset[offset:(offset + batch_size), :, :]\n",
      "    batch_labels = train_labels[offset:(offset + batch_size), :]\n",
      "    feed_dict = {tf_train_dataset : batch_data, tf_train_labels : batch_labels}\n",
      "    _, l, predictions = session.run(\n",
      "      [optimizer, loss, train_prediction], feed_dict=feed_dict)\n",
      "    if (step % 50 == 0):\n",
      "      print('Minibatch loss at step %d: %f' % (step, l))\n",
      "      print('Minibatch accuracy: %.1f%%' % accuracy(predictions, batch_labels))\n",
      "      train_plot_x.append(step)\n",
      "      train_plot_y.append(accuracy(predictions, batch_labels))\n",
      "        \n",
      "      print('Validation accuracy: %.1f%%' % accuracy(\n",
      "        valid_prediction.eval(), valid_labels))\n",
      "      valid_plot_y.append(accuracy(valid_prediction.eval(), valid_labels))\n",
      "\n",
      "  print('Test accuracy: %.1f%%' % accuracy(test_prediction.eval(), test_labels))\n",
      "  classificationReport = classification_report(np.argmax(test_labels,1), np.argmax(test_prediction.eval(),1))\n"
     ],
     "language": "python",
     "metadata": {},
     "outputs": [
      {
       "output_type": "stream",
       "stream": "stdout",
       "text": [
        "Initialized\n",
        "Minibatch loss at step 0: 18.029665"
       ]
      },
      {
       "output_type": "stream",
       "stream": "stdout",
       "text": [
        "\n",
        "Minibatch accuracy: 40.6%\n",
        "Validation accuracy: 49.7%\n",
        "Minibatch loss at step 50: 22.713924"
       ]
      },
      {
       "output_type": "stream",
       "stream": "stdout",
       "text": [
        "\n",
        "Minibatch accuracy: 23.4%\n",
        "Validation accuracy: 51.3%\n",
        "Minibatch loss at step 100: 27.397915"
       ]
      },
      {
       "output_type": "stream",
       "stream": "stdout",
       "text": [
        "\n",
        "Minibatch accuracy: 52.3%\n",
        "Validation accuracy: 27.5%\n",
        "Minibatch loss at step 150: 22.202076"
       ]
      },
      {
       "output_type": "stream",
       "stream": "stdout",
       "text": [
        "\n",
        "Minibatch accuracy: 49.2%\n",
        "Validation accuracy: 31.5%\n",
        "Minibatch loss at step 200: 9.234416"
       ]
      },
      {
       "output_type": "stream",
       "stream": "stdout",
       "text": [
        "\n",
        "Minibatch accuracy: 50.0%\n",
        "Validation accuracy: 51.2%\n",
        "Minibatch loss at step 250: 12.249951"
       ]
      },
      {
       "output_type": "stream",
       "stream": "stdout",
       "text": [
        "\n",
        "Minibatch accuracy: 64.8%\n",
        "Validation accuracy: 52.7%\n",
        "Minibatch loss at step 300: 8.060150"
       ]
      },
      {
       "output_type": "stream",
       "stream": "stdout",
       "text": [
        "\n",
        "Minibatch accuracy: 50.0%\n",
        "Validation accuracy: 48.7%\n",
        "Minibatch loss at step 350: 18.803013"
       ]
      },
      {
       "output_type": "stream",
       "stream": "stdout",
       "text": [
        "\n",
        "Minibatch accuracy: 57.8%\n",
        "Validation accuracy: 39.5%\n",
        "Minibatch loss at step 400: 11.984095"
       ]
      },
      {
       "output_type": "stream",
       "stream": "stdout",
       "text": [
        "\n",
        "Minibatch accuracy: 53.1%\n",
        "Validation accuracy: 38.3%\n",
        "Minibatch loss at step 450: 11.949743"
       ]
      },
      {
       "output_type": "stream",
       "stream": "stdout",
       "text": [
        "\n",
        "Minibatch accuracy: 56.2%\n",
        "Validation accuracy: 44.8%\n",
        "Minibatch loss at step 500: 8.071195"
       ]
      },
      {
       "output_type": "stream",
       "stream": "stdout",
       "text": [
        "\n",
        "Minibatch accuracy: 46.9%\n",
        "Validation accuracy: 51.2%\n",
        "Minibatch loss at step 550: 6.963790"
       ]
      },
      {
       "output_type": "stream",
       "stream": "stdout",
       "text": [
        "\n",
        "Minibatch accuracy: 46.9%\n",
        "Validation accuracy: 51.8%\n",
        "Minibatch loss at step 600: 7.182505"
       ]
      },
      {
       "output_type": "stream",
       "stream": "stdout",
       "text": [
        "\n",
        "Minibatch accuracy: 46.1%\n",
        "Validation accuracy: 51.3%\n",
        "Minibatch loss at step 650: 4.292796"
       ]
      },
      {
       "output_type": "stream",
       "stream": "stdout",
       "text": [
        "\n",
        "Minibatch accuracy: 67.2%\n",
        "Validation accuracy: 53.3%\n",
        "Minibatch loss at step 700: 9.497782"
       ]
      },
      {
       "output_type": "stream",
       "stream": "stdout",
       "text": [
        "\n",
        "Minibatch accuracy: 58.6%\n",
        "Validation accuracy: 49.0%\n",
        "Minibatch loss at step 750: 6.213849"
       ]
      },
      {
       "output_type": "stream",
       "stream": "stdout",
       "text": [
        "\n",
        "Minibatch accuracy: 48.4%\n",
        "Validation accuracy: 52.7%\n",
        "Minibatch loss at step 800: 4.601817"
       ]
      },
      {
       "output_type": "stream",
       "stream": "stdout",
       "text": [
        "\n",
        "Minibatch accuracy: 59.4%\n",
        "Validation accuracy: 54.2%\n",
        "Minibatch loss at step 850: 4.301768"
       ]
      },
      {
       "output_type": "stream",
       "stream": "stdout",
       "text": [
        "\n",
        "Minibatch accuracy: 57.0%\n",
        "Validation accuracy: 51.0%\n",
        "Minibatch loss at step 900: 3.572219"
       ]
      },
      {
       "output_type": "stream",
       "stream": "stdout",
       "text": [
        "\n",
        "Minibatch accuracy: 64.1%\n",
        "Validation accuracy: 52.8%\n",
        "Minibatch loss at step 950: 6.210026"
       ]
      },
      {
       "output_type": "stream",
       "stream": "stdout",
       "text": [
        "\n",
        "Minibatch accuracy: 53.1%\n",
        "Validation accuracy: 50.8%\n",
        "Minibatch loss at step 1000: 5.814717"
       ]
      },
      {
       "output_type": "stream",
       "stream": "stdout",
       "text": [
        "\n",
        "Minibatch accuracy: 60.9%\n",
        "Validation accuracy: 44.3%\n",
        "Minibatch loss at step 1050: 3.645994"
       ]
      },
      {
       "output_type": "stream",
       "stream": "stdout",
       "text": [
        "\n",
        "Minibatch accuracy: 65.6%\n",
        "Validation accuracy: 49.3%\n",
        "Minibatch loss at step 1100: 4.809308"
       ]
      },
      {
       "output_type": "stream",
       "stream": "stdout",
       "text": [
        "\n",
        "Minibatch accuracy: 57.8%\n",
        "Validation accuracy: 52.8%\n",
        "Minibatch loss at step 1150: 4.603174"
       ]
      },
      {
       "output_type": "stream",
       "stream": "stdout",
       "text": [
        "\n",
        "Minibatch accuracy: 56.2%\n",
        "Validation accuracy: 52.2%\n",
        "Minibatch loss at step 1200: 3.375780"
       ]
      },
      {
       "output_type": "stream",
       "stream": "stdout",
       "text": [
        "\n",
        "Minibatch accuracy: 57.8%\n",
        "Validation accuracy: 53.3%\n",
        "Minibatch loss at step 1250: 5.342625"
       ]
      },
      {
       "output_type": "stream",
       "stream": "stdout",
       "text": [
        "\n",
        "Minibatch accuracy: 46.1%\n",
        "Validation accuracy: 51.7%\n",
        "Minibatch loss at step 1300: 2.996041"
       ]
      },
      {
       "output_type": "stream",
       "stream": "stdout",
       "text": [
        "\n",
        "Minibatch accuracy: 67.2%\n",
        "Validation accuracy: 49.7%\n",
        "Minibatch loss at step 1350: 6.124514"
       ]
      },
      {
       "output_type": "stream",
       "stream": "stdout",
       "text": [
        "\n",
        "Minibatch accuracy: 48.4%\n",
        "Validation accuracy: 43.5%\n",
        "Minibatch loss at step 1400: 4.759110"
       ]
      },
      {
       "output_type": "stream",
       "stream": "stdout",
       "text": [
        "\n",
        "Minibatch accuracy: 57.8%\n",
        "Validation accuracy: 50.7%\n",
        "Minibatch loss at step 1450: 3.427974"
       ]
      },
      {
       "output_type": "stream",
       "stream": "stdout",
       "text": [
        "\n",
        "Minibatch accuracy: 64.1%\n",
        "Validation accuracy: 55.2%\n",
        "Minibatch loss at step 1500: 3.513099"
       ]
      },
      {
       "output_type": "stream",
       "stream": "stdout",
       "text": [
        "\n",
        "Minibatch accuracy: 57.0%\n",
        "Validation accuracy: 53.2%\n",
        "Minibatch loss at step 1550: 5.227473"
       ]
      },
      {
       "output_type": "stream",
       "stream": "stdout",
       "text": [
        "\n",
        "Minibatch accuracy: 54.7%\n",
        "Validation accuracy: 41.0%\n",
        "Minibatch loss at step 1600: 2.866775"
       ]
      },
      {
       "output_type": "stream",
       "stream": "stdout",
       "text": [
        "\n",
        "Minibatch accuracy: 65.6%\n",
        "Validation accuracy: 53.5%\n",
        "Minibatch loss at step 1650: 3.410389"
       ]
      },
      {
       "output_type": "stream",
       "stream": "stdout",
       "text": [
        "\n",
        "Minibatch accuracy: 61.7%\n",
        "Validation accuracy: 52.3%\n",
        "Minibatch loss at step 1700: 3.426736"
       ]
      },
      {
       "output_type": "stream",
       "stream": "stdout",
       "text": [
        "\n",
        "Minibatch accuracy: 61.7%\n",
        "Validation accuracy: 53.8%\n",
        "Minibatch loss at step 1750: 3.140597"
       ]
      },
      {
       "output_type": "stream",
       "stream": "stdout",
       "text": [
        "\n",
        "Minibatch accuracy: 66.4%\n",
        "Validation accuracy: 52.8%\n",
        "Minibatch loss at step 1800: 2.713800"
       ]
      },
      {
       "output_type": "stream",
       "stream": "stdout",
       "text": [
        "\n",
        "Minibatch accuracy: 69.5%\n",
        "Validation accuracy: 51.2%\n",
        "Minibatch loss at step 1850: 3.139070"
       ]
      },
      {
       "output_type": "stream",
       "stream": "stdout",
       "text": [
        "\n",
        "Minibatch accuracy: 57.8%\n",
        "Validation accuracy: 52.5%\n",
        "Minibatch loss at step 1900: 3.163319"
       ]
      },
      {
       "output_type": "stream",
       "stream": "stdout",
       "text": [
        "\n",
        "Minibatch accuracy: 64.8%\n",
        "Validation accuracy: 51.2%\n",
        "Minibatch loss at step 1950: 3.297217"
       ]
      },
      {
       "output_type": "stream",
       "stream": "stdout",
       "text": [
        "\n",
        "Minibatch accuracy: 58.6%\n",
        "Validation accuracy: 49.7%\n",
        "Minibatch loss at step 2000: 3.443711"
       ]
      },
      {
       "output_type": "stream",
       "stream": "stdout",
       "text": [
        "\n",
        "Minibatch accuracy: 58.6%\n",
        "Validation accuracy: 49.2%\n",
        "Minibatch loss at step 2050: 3.418255"
       ]
      },
      {
       "output_type": "stream",
       "stream": "stdout",
       "text": [
        "\n",
        "Minibatch accuracy: 64.1%\n",
        "Validation accuracy: 49.0%\n",
        "Minibatch loss at step 2100: 2.783279"
       ]
      },
      {
       "output_type": "stream",
       "stream": "stdout",
       "text": [
        "\n",
        "Minibatch accuracy: 68.8%\n",
        "Validation accuracy: 48.8%\n",
        "Minibatch loss at step 2150: 2.663192"
       ]
      },
      {
       "output_type": "stream",
       "stream": "stdout",
       "text": [
        "\n",
        "Minibatch accuracy: 72.7%\n",
        "Validation accuracy: 47.3%\n",
        "Minibatch loss at step 2200: 3.832209"
       ]
      },
      {
       "output_type": "stream",
       "stream": "stdout",
       "text": [
        "\n",
        "Minibatch accuracy: 65.6%\n",
        "Validation accuracy: 52.5%\n",
        "Minibatch loss at step 2250: 2.493680"
       ]
      },
      {
       "output_type": "stream",
       "stream": "stdout",
       "text": [
        "\n",
        "Minibatch accuracy: 68.8%\n",
        "Validation accuracy: 52.0%\n",
        "Minibatch loss at step 2300: 2.778015"
       ]
      },
      {
       "output_type": "stream",
       "stream": "stdout",
       "text": [
        "\n",
        "Minibatch accuracy: 65.6%\n",
        "Validation accuracy: 52.8%\n",
        "Minibatch loss at step 2350: 2.679410"
       ]
      },
      {
       "output_type": "stream",
       "stream": "stdout",
       "text": [
        "\n",
        "Minibatch accuracy: 70.3%\n",
        "Validation accuracy: 47.2%\n",
        "Minibatch loss at step 2400: 2.753681"
       ]
      },
      {
       "output_type": "stream",
       "stream": "stdout",
       "text": [
        "\n",
        "Minibatch accuracy: 69.5%\n",
        "Validation accuracy: 53.3%\n",
        "Minibatch loss at step 2450: 2.455765"
       ]
      },
      {
       "output_type": "stream",
       "stream": "stdout",
       "text": [
        "\n",
        "Minibatch accuracy: 70.3%\n",
        "Validation accuracy: 53.7%\n",
        "Minibatch loss at step 2500: 2.340035"
       ]
      },
      {
       "output_type": "stream",
       "stream": "stdout",
       "text": [
        "\n",
        "Minibatch accuracy: 77.3%\n",
        "Validation accuracy: 53.0%\n",
        "Minibatch loss at step 2550: 2.405434"
       ]
      },
      {
       "output_type": "stream",
       "stream": "stdout",
       "text": [
        "\n",
        "Minibatch accuracy: 66.4%\n",
        "Validation accuracy: 55.2%\n",
        "Minibatch loss at step 2600: 2.521276"
       ]
      },
      {
       "output_type": "stream",
       "stream": "stdout",
       "text": [
        "\n",
        "Minibatch accuracy: 68.0%\n",
        "Validation accuracy: 50.3%\n",
        "Minibatch loss at step 2650: 2.612078"
       ]
      },
      {
       "output_type": "stream",
       "stream": "stdout",
       "text": [
        "\n",
        "Minibatch accuracy: 67.2%\n",
        "Validation accuracy: 54.7%\n",
        "Minibatch loss at step 2700: 2.873461"
       ]
      },
      {
       "output_type": "stream",
       "stream": "stdout",
       "text": [
        "\n",
        "Minibatch accuracy: 65.6%\n",
        "Validation accuracy: 55.2%\n",
        "Minibatch loss at step 2750: 2.473609"
       ]
      },
      {
       "output_type": "stream",
       "stream": "stdout",
       "text": [
        "\n",
        "Minibatch accuracy: 68.0%\n",
        "Validation accuracy: 52.8%\n",
        "Minibatch loss at step 2800: 2.083509"
       ]
      },
      {
       "output_type": "stream",
       "stream": "stdout",
       "text": [
        "\n",
        "Minibatch accuracy: 75.8%\n",
        "Validation accuracy: 54.0%\n",
        "Minibatch loss at step 2850: 2.112309"
       ]
      },
      {
       "output_type": "stream",
       "stream": "stdout",
       "text": [
        "\n",
        "Minibatch accuracy: 75.8%\n",
        "Validation accuracy: 53.5%\n",
        "Minibatch loss at step 2900: 1.981106"
       ]
      },
      {
       "output_type": "stream",
       "stream": "stdout",
       "text": [
        "\n",
        "Minibatch accuracy: 79.7%\n",
        "Validation accuracy: 55.5%\n",
        "Minibatch loss at step 2950: 2.261814"
       ]
      },
      {
       "output_type": "stream",
       "stream": "stdout",
       "text": [
        "\n",
        "Minibatch accuracy: 72.7%\n",
        "Validation accuracy: 56.7%\n",
        "Minibatch loss at step 3000: 2.070567"
       ]
      },
      {
       "output_type": "stream",
       "stream": "stdout",
       "text": [
        "\n",
        "Minibatch accuracy: 72.7%\n",
        "Validation accuracy: 54.7%\n",
        "Minibatch loss at step 3050: 2.345534"
       ]
      },
      {
       "output_type": "stream",
       "stream": "stdout",
       "text": [
        "\n",
        "Minibatch accuracy: 69.5%\n",
        "Validation accuracy: 55.7%\n",
        "Minibatch loss at step 3100: 2.313300"
       ]
      },
      {
       "output_type": "stream",
       "stream": "stdout",
       "text": [
        "\n",
        "Minibatch accuracy: 71.9%\n",
        "Validation accuracy: 54.5%\n",
        "Minibatch loss at step 3150: 2.175612"
       ]
      },
      {
       "output_type": "stream",
       "stream": "stdout",
       "text": [
        "\n",
        "Minibatch accuracy: 75.8%\n",
        "Validation accuracy: 55.0%\n",
        "Minibatch loss at step 3200: 1.992078"
       ]
      },
      {
       "output_type": "stream",
       "stream": "stdout",
       "text": [
        "\n",
        "Minibatch accuracy: 78.9%\n",
        "Validation accuracy: 55.0%\n",
        "Minibatch loss at step 3250: 2.009514"
       ]
      },
      {
       "output_type": "stream",
       "stream": "stdout",
       "text": [
        "\n",
        "Minibatch accuracy: 82.0%\n",
        "Validation accuracy: 54.7%\n",
        "Minibatch loss at step 3300: 1.852650"
       ]
      },
      {
       "output_type": "stream",
       "stream": "stdout",
       "text": [
        "\n",
        "Minibatch accuracy: 81.2%\n",
        "Validation accuracy: 53.7%\n",
        "Minibatch loss at step 3350: 1.993933"
       ]
      },
      {
       "output_type": "stream",
       "stream": "stdout",
       "text": [
        "\n",
        "Minibatch accuracy: 76.6%\n",
        "Validation accuracy: 53.2%\n",
        "Minibatch loss at step 3400: 2.229243"
       ]
      },
      {
       "output_type": "stream",
       "stream": "stdout",
       "text": [
        "\n",
        "Minibatch accuracy: 68.8%\n",
        "Validation accuracy: 53.2%\n",
        "Minibatch loss at step 3450: 2.227480"
       ]
      },
      {
       "output_type": "stream",
       "stream": "stdout",
       "text": [
        "\n",
        "Minibatch accuracy: 71.1%\n",
        "Validation accuracy: 53.3%\n",
        "Minibatch loss at step 3500: 2.072311"
       ]
      },
      {
       "output_type": "stream",
       "stream": "stdout",
       "text": [
        "\n",
        "Minibatch accuracy: 75.8%\n",
        "Validation accuracy: 55.0%\n",
        "Minibatch loss at step 3550: 1.999095"
       ]
      },
      {
       "output_type": "stream",
       "stream": "stdout",
       "text": [
        "\n",
        "Minibatch accuracy: 76.6%\n",
        "Validation accuracy: 54.7%\n",
        "Minibatch loss at step 3600: 2.192454"
       ]
      },
      {
       "output_type": "stream",
       "stream": "stdout",
       "text": [
        "\n",
        "Minibatch accuracy: 70.3%\n",
        "Validation accuracy: 51.5%\n",
        "Minibatch loss at step 3650: 2.402497"
       ]
      },
      {
       "output_type": "stream",
       "stream": "stdout",
       "text": [
        "\n",
        "Minibatch accuracy: 65.6%\n",
        "Validation accuracy: 51.0%\n",
        "Minibatch loss at step 3700: 2.113268"
       ]
      },
      {
       "output_type": "stream",
       "stream": "stdout",
       "text": [
        "\n",
        "Minibatch accuracy: 75.0%\n",
        "Validation accuracy: 54.7%\n",
        "Minibatch loss at step 3750: 2.000079"
       ]
      },
      {
       "output_type": "stream",
       "stream": "stdout",
       "text": [
        "\n",
        "Minibatch accuracy: 78.1%\n",
        "Validation accuracy: 54.2%\n",
        "Minibatch loss at step 3800: 2.285150"
       ]
      },
      {
       "output_type": "stream",
       "stream": "stdout",
       "text": [
        "\n",
        "Minibatch accuracy: 71.1%\n",
        "Validation accuracy: 51.0%\n",
        "Minibatch loss at step 3850: 2.195969"
       ]
      },
      {
       "output_type": "stream",
       "stream": "stdout",
       "text": [
        "\n",
        "Minibatch accuracy: 71.1%\n",
        "Validation accuracy: 45.8%\n",
        "Minibatch loss at step 3900: 2.007152"
       ]
      },
      {
       "output_type": "stream",
       "stream": "stdout",
       "text": [
        "\n",
        "Minibatch accuracy: 81.2%\n",
        "Validation accuracy: 53.2%\n",
        "Minibatch loss at step 3950: 2.010661"
       ]
      },
      {
       "output_type": "stream",
       "stream": "stdout",
       "text": [
        "\n",
        "Minibatch accuracy: 76.6%\n",
        "Validation accuracy: 54.2%\n",
        "Minibatch loss at step 4000: 1.808842"
       ]
      },
      {
       "output_type": "stream",
       "stream": "stdout",
       "text": [
        "\n",
        "Minibatch accuracy: 84.4%\n",
        "Validation accuracy: 53.8%\n",
        "Minibatch loss at step 4050: 1.971943"
       ]
      },
      {
       "output_type": "stream",
       "stream": "stdout",
       "text": [
        "\n",
        "Minibatch accuracy: 76.6%\n",
        "Validation accuracy: 56.0%\n",
        "Minibatch loss at step 4100: 1.823638"
       ]
      },
      {
       "output_type": "stream",
       "stream": "stdout",
       "text": [
        "\n",
        "Minibatch accuracy: 78.9%\n",
        "Validation accuracy: 55.8%\n",
        "Minibatch loss at step 4150: 1.965909"
       ]
      },
      {
       "output_type": "stream",
       "stream": "stdout",
       "text": [
        "\n",
        "Minibatch accuracy: 78.9%\n",
        "Validation accuracy: 52.7%\n",
        "Minibatch loss at step 4200: 2.010562"
       ]
      },
      {
       "output_type": "stream",
       "stream": "stdout",
       "text": [
        "\n",
        "Minibatch accuracy: 71.9%\n",
        "Validation accuracy: 54.7%\n",
        "Minibatch loss at step 4250: 2.006136"
       ]
      },
      {
       "output_type": "stream",
       "stream": "stdout",
       "text": [
        "\n",
        "Minibatch accuracy: 78.1%\n",
        "Validation accuracy: 54.8%\n",
        "Minibatch loss at step 4300: 1.706993"
       ]
      },
      {
       "output_type": "stream",
       "stream": "stdout",
       "text": [
        "\n",
        "Minibatch accuracy: 85.2%\n",
        "Validation accuracy: 53.5%\n",
        "Minibatch loss at step 4350: 1.794051"
       ]
      },
      {
       "output_type": "stream",
       "stream": "stdout",
       "text": [
        "\n",
        "Minibatch accuracy: 85.2%\n",
        "Validation accuracy: 50.8%\n",
        "Minibatch loss at step 4400: 1.855841"
       ]
      },
      {
       "output_type": "stream",
       "stream": "stdout",
       "text": [
        "\n",
        "Minibatch accuracy: 83.6%\n",
        "Validation accuracy: 52.2%\n",
        "Minibatch loss at step 4450: 1.994620"
       ]
      },
      {
       "output_type": "stream",
       "stream": "stdout",
       "text": [
        "\n",
        "Minibatch accuracy: 77.3%\n",
        "Validation accuracy: 51.2%\n",
        "Minibatch loss at step 4500: 1.871215"
       ]
      },
      {
       "output_type": "stream",
       "stream": "stdout",
       "text": [
        "\n",
        "Minibatch accuracy: 80.5%\n",
        "Validation accuracy: 53.7%\n",
        "Minibatch loss at step 4550: 1.923549"
       ]
      },
      {
       "output_type": "stream",
       "stream": "stdout",
       "text": [
        "\n",
        "Minibatch accuracy: 78.9%\n",
        "Validation accuracy: 54.5%\n",
        "Minibatch loss at step 4600: 1.751196"
       ]
      },
      {
       "output_type": "stream",
       "stream": "stdout",
       "text": [
        "\n",
        "Minibatch accuracy: 85.2%\n",
        "Validation accuracy: 54.3%\n",
        "Minibatch loss at step 4650: 1.991208"
       ]
      },
      {
       "output_type": "stream",
       "stream": "stdout",
       "text": [
        "\n",
        "Minibatch accuracy: 81.2%\n",
        "Validation accuracy: 55.3%\n",
        "Minibatch loss at step 4700: 1.895541"
       ]
      },
      {
       "output_type": "stream",
       "stream": "stdout",
       "text": [
        "\n",
        "Minibatch accuracy: 79.7%\n",
        "Validation accuracy: 56.0%\n",
        "Minibatch loss at step 4750: 1.792069"
       ]
      },
      {
       "output_type": "stream",
       "stream": "stdout",
       "text": [
        "\n",
        "Minibatch accuracy: 81.2%\n",
        "Validation accuracy: 53.8%\n",
        "Minibatch loss at step 4800: 2.187575"
       ]
      },
      {
       "output_type": "stream",
       "stream": "stdout",
       "text": [
        "\n",
        "Minibatch accuracy: 73.4%\n",
        "Validation accuracy: 54.0%\n",
        "Minibatch loss at step 4850: 1.997780"
       ]
      },
      {
       "output_type": "stream",
       "stream": "stdout",
       "text": [
        "\n",
        "Minibatch accuracy: 75.8%\n",
        "Validation accuracy: 51.5%\n",
        "Minibatch loss at step 4900: 2.062591"
       ]
      },
      {
       "output_type": "stream",
       "stream": "stdout",
       "text": [
        "\n",
        "Minibatch accuracy: 75.8%\n",
        "Validation accuracy: 54.3%\n",
        "Minibatch loss at step 4950: 1.824305"
       ]
      },
      {
       "output_type": "stream",
       "stream": "stdout",
       "text": [
        "\n",
        "Minibatch accuracy: 78.9%\n",
        "Validation accuracy: 53.3%\n",
        "Minibatch loss at step 5000: 2.107467"
       ]
      },
      {
       "output_type": "stream",
       "stream": "stdout",
       "text": [
        "\n",
        "Minibatch accuracy: 75.0%\n",
        "Validation accuracy: 51.0%\n",
        "Minibatch loss at step 5050: 1.801380"
       ]
      },
      {
       "output_type": "stream",
       "stream": "stdout",
       "text": [
        "\n",
        "Minibatch accuracy: 85.2%\n",
        "Validation accuracy: 54.5%\n",
        "Minibatch loss at step 5100: 1.863736"
       ]
      },
      {
       "output_type": "stream",
       "stream": "stdout",
       "text": [
        "\n",
        "Minibatch accuracy: 82.0%\n",
        "Validation accuracy: 55.2%\n",
        "Minibatch loss at step 5150: 1.948474"
       ]
      },
      {
       "output_type": "stream",
       "stream": "stdout",
       "text": [
        "\n",
        "Minibatch accuracy: 78.1%\n",
        "Validation accuracy: 51.8%\n",
        "Minibatch loss at step 5200: 1.859177"
       ]
      },
      {
       "output_type": "stream",
       "stream": "stdout",
       "text": [
        "\n",
        "Minibatch accuracy: 82.0%\n",
        "Validation accuracy: 54.8%\n",
        "Minibatch loss at step 5250: 1.742402"
       ]
      },
      {
       "output_type": "stream",
       "stream": "stdout",
       "text": [
        "\n",
        "Minibatch accuracy: 82.8%\n",
        "Validation accuracy: 55.8%\n",
        "Minibatch loss at step 5300: 1.798954"
       ]
      },
      {
       "output_type": "stream",
       "stream": "stdout",
       "text": [
        "\n",
        "Minibatch accuracy: 82.0%\n",
        "Validation accuracy: 51.8%\n",
        "Minibatch loss at step 5350: 1.777947"
       ]
      },
      {
       "output_type": "stream",
       "stream": "stdout",
       "text": [
        "\n",
        "Minibatch accuracy: 79.7%\n",
        "Validation accuracy: 55.0%\n",
        "Minibatch loss at step 5400: 1.778648"
       ]
      },
      {
       "output_type": "stream",
       "stream": "stdout",
       "text": [
        "\n",
        "Minibatch accuracy: 79.7%\n",
        "Validation accuracy: 52.8%\n",
        "Minibatch loss at step 5450: 1.823058"
       ]
      },
      {
       "output_type": "stream",
       "stream": "stdout",
       "text": [
        "\n",
        "Minibatch accuracy: 82.0%\n",
        "Validation accuracy: 54.8%\n",
        "Minibatch loss at step 5500: 1.683996"
       ]
      },
      {
       "output_type": "stream",
       "stream": "stdout",
       "text": [
        "\n",
        "Minibatch accuracy: 89.8%\n",
        "Validation accuracy: 54.3%\n",
        "Minibatch loss at step 5550: 1.706172"
       ]
      },
      {
       "output_type": "stream",
       "stream": "stdout",
       "text": [
        "\n",
        "Minibatch accuracy: 85.9%\n",
        "Validation accuracy: 53.8%\n",
        "Minibatch loss at step 5600: 1.798487"
       ]
      },
      {
       "output_type": "stream",
       "stream": "stdout",
       "text": [
        "\n",
        "Minibatch accuracy: 82.0%\n",
        "Validation accuracy: 53.5%\n",
        "Minibatch loss at step 5650: 1.739840"
       ]
      },
      {
       "output_type": "stream",
       "stream": "stdout",
       "text": [
        "\n",
        "Minibatch accuracy: 84.4%\n",
        "Validation accuracy: 54.0%\n",
        "Minibatch loss at step 5700: 1.919578"
       ]
      },
      {
       "output_type": "stream",
       "stream": "stdout",
       "text": [
        "\n",
        "Minibatch accuracy: 79.7%\n",
        "Validation accuracy: 51.5%\n",
        "Minibatch loss at step 5750: 1.744096"
       ]
      },
      {
       "output_type": "stream",
       "stream": "stdout",
       "text": [
        "\n",
        "Minibatch accuracy: 82.8%\n",
        "Validation accuracy: 51.0%\n",
        "Minibatch loss at step 5800: 1.907073"
       ]
      },
      {
       "output_type": "stream",
       "stream": "stdout",
       "text": [
        "\n",
        "Minibatch accuracy: 75.8%\n",
        "Validation accuracy: 54.2%\n",
        "Minibatch loss at step 5850: 1.817711"
       ]
      },
      {
       "output_type": "stream",
       "stream": "stdout",
       "text": [
        "\n",
        "Minibatch accuracy: 80.5%\n",
        "Validation accuracy: 54.5%\n",
        "Minibatch loss at step 5900: 1.873711"
       ]
      },
      {
       "output_type": "stream",
       "stream": "stdout",
       "text": [
        "\n",
        "Minibatch accuracy: 80.5%\n",
        "Validation accuracy: 55.2%\n",
        "Minibatch loss at step 5950: 1.857569"
       ]
      },
      {
       "output_type": "stream",
       "stream": "stdout",
       "text": [
        "\n",
        "Minibatch accuracy: 79.7%\n",
        "Validation accuracy: 56.2%\n",
        "Minibatch loss at step 6000: 1.725840"
       ]
      },
      {
       "output_type": "stream",
       "stream": "stdout",
       "text": [
        "\n",
        "Minibatch accuracy: 85.9%\n",
        "Validation accuracy: 53.3%\n",
        "Test accuracy: 56.0%"
       ]
      },
      {
       "output_type": "stream",
       "stream": "stdout",
       "text": [
        "\n"
       ]
      }
     ],
     "prompt_number": 31
    },
    {
     "cell_type": "code",
     "collapsed": false,
     "input": [
      "plot_classification_report(classificationReport)\n",
      "plt.savefig('cnn_glove_plot_classif_report.png', dpi=200, format='png', bbox_inches='tight')\n",
      "plt.close()"
     ],
     "language": "python",
     "metadata": {},
     "outputs": [
      {
       "output_type": "stream",
       "stream": "stdout",
       "text": [
        "[0.37, 0.23, 0.28]\n",
        "[0.45, 0.57, 0.5]\n",
        "[0.69, 0.64, 0.66]\n",
        "plotMat: [[0.37, 0.23, 0.28], [0.45, 0.57, 0.5], [0.69, 0.64, 0.66]]\n",
        "support: [80, 203, 317]\n"
       ]
      }
     ],
     "prompt_number": 32
    },
    {
     "cell_type": "code",
     "collapsed": false,
     "input": [],
     "language": "python",
     "metadata": {},
     "outputs": []
    }
   ],
   "metadata": {}
  }
 ]
}