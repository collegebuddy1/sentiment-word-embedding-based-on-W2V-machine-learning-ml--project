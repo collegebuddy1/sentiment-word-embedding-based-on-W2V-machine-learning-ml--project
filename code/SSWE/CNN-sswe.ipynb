{
 "metadata": {
  "name": ""
 },
 "nbformat": 3,
 "nbformat_minor": 0,
 "worksheets": [
  {
   "cells": [
    {
     "cell_type": "code",
     "collapsed": false,
     "input": [
      "#=====================\u52a0\u8f7d\u8981\u7528\u5230\u7684\u6a21\u5757=======================#\n",
      "#\u6b64\u6a21\u5757\u662f\u4e3a\u4e86\u548cpython3.x\u517c\u5bb9\n",
      "from __future__ import print_function\n",
      "\n",
      "#\u52a0\u8f7dnumpy\u6a21\u5757\uff0c\u8981\u7528\u5230np.array\n",
      "import numpy as np\n",
      "#\u52a0\u8f7dtensorflow\u6a21\u5757\uff0c\u8981\u7528\u5230\u8ba1\u7b97\u56fe\u7b49\n",
      "import tensorflow as tf\n",
      "#\u52a0\u8f7dmatplotlib\u6a21\u5757\uff0c\u8981\u753b\u56fe\u7528\n",
      "import matplotlib.pyplot as plt\n",
      "#\u52a0\u8f7dclassification_report,\u5c55\u793a\u7ed3\u679c\u7528\n",
      "from sklearn.metrics import classification_report"
     ],
     "language": "python",
     "metadata": {},
     "outputs": [
      {
       "output_type": "stream",
       "stream": "stderr",
       "text": [
        "/usr/local/lib/python2.7/dist-packages/sklearn/cross_validation.py:44: DeprecationWarning: This module was deprecated in version 0.18 in favor of the model_selection module into which all the refactored classes and functions are moved. Also note that the interface of the new CV iterators are different from that of this module. This module will be removed in 0.20.\n",
        "  \"This module will be removed in 0.20.\", DeprecationWarning)\n"
       ]
      }
     ],
     "prompt_number": 1
    },
    {
     "cell_type": "code",
     "collapsed": false,
     "input": [
      "####\u8bfb\u5165data\uff08\u53e5\u5b50\u7d22\u5f15\u6587\u4ef6\uff09\uff0c\u5e76\u5728\u8fd9\u91cc\u53ef\u8bbe\u7f6e\u662f\u5426\u8bbe\u7f6e\u6700\u5927\u53e5\u5b50\u957f\u5ea6\uff0c\u5904\u7406\u6210array####\n",
      "#\u8f93\u5165\uff1a\u53e5\u5b50\u7d22\u5f15\u6587\u4ef6\u540d\uff08\u7edd\u5bf9\u8def\u5f84\uff09\uff0c\u6700\u5927\u53e5\u5b50\u957f\u5ea6\uff08int\uff09\uff0c\u662f\u5426\u8bbe\u7f6e\u6700\u5927\u957f\u5ea6\uff080\u62161\uff09\n",
      "#\u8f93\u51fa\uff1a\u5904\u7406\u597d\u7684np.array\n",
      "def readSentence2Array(sentenceFileName,inputMaxLength = 16 , inputMaxLengthFlag = 0):\n",
      "    file = open(sentenceFileName,'r')\n",
      "    lines = file.readlines()\n",
      "    sentenceList = []\n",
      "    for line in lines:\n",
      "        splitList = line.strip().split(' ')\n",
      "        sentenceList.append(splitList)\n",
      "    maxLength = len(sentenceList[0])\n",
      "    for row in sentenceList:\n",
      "        if maxLength <= len(row):\n",
      "            maxLength = len(row)\n",
      "    if inputMaxLengthFlag == 0: \n",
      "        for row in sentenceList:\n",
      "            for i in range(len(row),maxLength):\n",
      "                row.append('0')\n",
      "                \n",
      "    elif inputMaxLengthFlag == 1:\n",
      "        temp_list = []\n",
      "        for row in sentenceList:\n",
      "            if len(row) < inputMaxLength:\n",
      "                for i in range(len(row),inputMaxLength):\n",
      "                    row.append('0')\n",
      "                temp_list.append(row)\n",
      "            elif len(row) >= inputMaxLength:\n",
      "                temp_list.append(row[0:inputMaxLength])\n",
      "        sentenceList = temp_list\n",
      "        \n",
      "    numSentenceList = strList2numList2D(sentenceList)\n",
      "    print (np.array(numSentenceList))\n",
      "    return np.array(numSentenceList)\n",
      "\n",
      "def strList2numList2D(strlist):\n",
      "    copyList = []\n",
      "    for sentence in strlist:\n",
      "        temp_list = []\n",
      "        for number in sentence:\n",
      "            temp_list.append(int(number))\n",
      "        copyList.append(temp_list)\n",
      "    return copyList\n",
      "\n",
      "def readLabelFile2Array(LabelFileName):\n",
      "    file = open(LabelFileName,'r')\n",
      "    lines = file.readlines()\n",
      "    labelList = []\n",
      "    for line in lines:\n",
      "        splitList = line.strip()\n",
      "        labelList.append(splitList)\n",
      "    return np.array(labelList)\n",
      "\n",
      "\n",
      "savedArrayFile = r'/media/huxi/\u65b0\u52a0\u53771/SCI_aim/experiment/code/sswe_ver/goal_data_label/vocabularyEmbedding.npy'\n",
      "wordEmbedding = np.load(savedArrayFile)\n",
      "\n",
      "lengthEmbedding = np.shape(wordEmbedding)[1]#\u8bcd\u5411\u91cf\u957f\u5ea6\n",
      "lengthVocabulary = np.shape(wordEmbedding)[0]#\u8bcd\u5178\u957f\u5ea6\n",
      "\n",
      "sentenceFileName = r'/media/huxi/\u65b0\u52a0\u53771/SCI_aim/experiment/code/sswe_ver/goal_data_label/goal_data.txt'\n",
      "sentenceArray = readSentence2Array(sentenceFileName)\n",
      "num_array = np.shape(sentenceArray)[0]#\u53e5\u5b50\u6761\u6570\n",
      "sentenceLength = np.shape(sentenceArray)[1]#\u53e5\u5b50\u957f\u5ea6\n",
      "print (sentenceLength)\n",
      "\n",
      "train_dataset = sentenceArray[0:int(num_array*0.8)]\n",
      "#train_labels = save['train_labels']\n",
      "valid_dataset = sentenceArray[int(num_array*0.8):int(num_array*0.8)+int(num_array*0.1)]\n",
      "#valid_labels = save['valid_labels']\n",
      "test_dataset = sentenceArray[int(num_array*0.8)+int(num_array*0.1):]\n",
      "#test_labels = save['test_labels']\n",
      "\n",
      "LabelFileName =  r'/media/huxi/\u65b0\u52a0\u53771/SCI_aim/experiment/code/sswe_ver/goal_data_label/goal_label.txt'\n",
      "labels = readLabelFile2Array(LabelFileName)\n",
      "\n",
      "train_labels = labels[0:int(num_array*0.8)]\n",
      "valid_labels = labels[int(num_array*0.8):int(num_array*0.8)+int(num_array*0.1)]\n",
      "test_labels = labels[int(num_array*0.8)+int(num_array*0.1):]\n",
      "#del save  # hint to help gc free up memory\n",
      "#print (train_labels)\n",
      "print('Training set', train_dataset.shape, train_labels.shape)\n",
      "print('Validation set', valid_dataset.shape, valid_labels.shape)\n",
      "print('Test set', test_dataset.shape, test_labels.shape)"
     ],
     "language": "python",
     "metadata": {},
     "outputs": [
      {
       "output_type": "stream",
       "stream": "stdout",
       "text": [
        "[[4318 2538 4132 ...,    0    0    0]\n",
        " [7032 3485 3214 ...,    0    0    0]\n",
        " [3641 7350 8091 ...,    0    0    0]\n",
        " ..., \n",
        " [1117 1434  318 ...,    0    0    0]\n",
        " [8674 9132 3369 ...,    0    0    0]\n",
        " [5675 6906 3151 ...,    0    0    0]]\n",
        "23\n",
        "Training set (4800, 23) (4800,)\n",
        "Validation set (600, 23) (600,)\n",
        "Test set (600, 23) (600,)\n"
       ]
      }
     ],
     "prompt_number": 12
    },
    {
     "cell_type": "code",
     "collapsed": false,
     "input": [
      "num_labels = 3\n",
      "num_channels = 1\n",
      "\n",
      "\n",
      "def reformat(dataset,labels):\n",
      "  label_T  = []\n",
      "  #print (labels)\n",
      "  dataset = dataset.reshape((dataset.shape[0], dataset.shape[1], num_channels))\n",
      "  for label in labels:\n",
      "        #print (type(label))\n",
      "        if label == '-1':\n",
      "            label_T.append([1,0,0])\n",
      "        elif label == '0':\n",
      "            label_T.append([0,1,0])\n",
      "        elif label == '1':\n",
      "            label_T.append([0,0,1])\n",
      "  newLabels = np.array(label_T)\n",
      "  return dataset,newLabels\n",
      "train_dataset, train_labels = reformat(train_dataset, train_labels)\n",
      "valid_dataset, valid_labels = reformat(valid_dataset, valid_labels)\n",
      "test_dataset, test_labels = reformat(test_dataset, test_labels)\n",
      "print('Training set', train_dataset.shape, train_labels.shape)\n",
      "print('Validation set', valid_dataset.shape, valid_labels.shape)\n",
      "print('Test set', test_dataset.shape, test_labels.shape)"
     ],
     "language": "python",
     "metadata": {},
     "outputs": [
      {
       "output_type": "stream",
       "stream": "stdout",
       "text": [
        "Training set (4800, 23, 1) (4800, 3)\n",
        "Validation set (600, 23, 1) (600, 3)\n",
        "Test set (600, 23, 1) (600, 3)\n"
       ]
      }
     ],
     "prompt_number": 13
    },
    {
     "cell_type": "code",
     "collapsed": false,
     "input": [
      "def accuracy(predictions, labels):\n",
      "  return (100.0 * np.sum(np.argmax(predictions, 1) == np.argmax(labels, 1))\n",
      "          / predictions.shape[0])"
     ],
     "language": "python",
     "metadata": {},
     "outputs": [],
     "prompt_number": 14
    },
    {
     "cell_type": "code",
     "collapsed": false,
     "input": [
      "def show_values(pc, fmt=\"%.2f\", **kw):\n",
      "    '''\n",
      "    Heatmap with text in each cell with matplotlib's pyplot\n",
      "    Source: http://stackoverflow.com/a/25074150/395857 \n",
      "    By HYRY\n",
      "    '''\n",
      "    from itertools import izip\n",
      "    pc.update_scalarmappable()\n",
      "    ax = pc.get_axes()\n",
      "    for p, color, value in izip(pc.get_paths(), pc.get_facecolors(), pc.get_array()):\n",
      "        x, y = p.vertices[:-2, :].mean(0)\n",
      "        if np.all(color[:3] > 0.5):\n",
      "            color = (0.0, 0.0, 0.0)\n",
      "        else:\n",
      "            color = (1.0, 1.0, 1.0)\n",
      "        ax.text(x, y, fmt % value, ha=\"center\", va=\"center\", color=color, **kw)\n",
      "\n",
      "\n",
      "def cm2inch(*tupl):\n",
      "    '''\n",
      "    Specify figure size in centimeter in matplotlib\n",
      "    Source: http://stackoverflow.com/a/22787457/395857\n",
      "    By gns-ank\n",
      "    '''\n",
      "    inch = 2.54\n",
      "    if type(tupl[0]) == tuple:\n",
      "        return tuple(i/inch for i in tupl[0])\n",
      "    else:\n",
      "        return tuple(i/inch for i in tupl)\n",
      "\n",
      "\n",
      "def heatmap(AUC, title, xlabel, ylabel, xticklabels, yticklabels, figure_width=40, figure_height=20, correct_orientation=False, cmap='RdBu'):\n",
      "    '''\n",
      "    Inspired by:\n",
      "    - http://stackoverflow.com/a/16124677/395857 \n",
      "    - http://stackoverflow.com/a/25074150/395857\n",
      "    '''\n",
      "\n",
      "    # Plot it out\n",
      "    fig, ax = plt.subplots()    \n",
      "    #c = ax.pcolor(AUC, edgecolors='k', linestyle= 'dashed', linewidths=0.2, cmap='RdBu', vmin=0.0, vmax=1.0)\n",
      "    c = ax.pcolor(AUC, edgecolors='k', linestyle= 'dashed', linewidths=0.2, cmap=cmap)\n",
      "\n",
      "    # put the major ticks at the middle of each cell\n",
      "    ax.set_yticks(np.arange(AUC.shape[0]) + 0.5, minor=False)\n",
      "    ax.set_xticks(np.arange(AUC.shape[1]) + 0.5, minor=False)\n",
      "\n",
      "    # set tick labels\n",
      "    #ax.set_xticklabels(np.arange(1,AUC.shape[1]+1), minor=False)\n",
      "    ax.set_xticklabels(xticklabels, minor=False)\n",
      "    ax.set_yticklabels(yticklabels, minor=False)\n",
      "\n",
      "    # set title and x/y labels\n",
      "    plt.title(title)\n",
      "    plt.xlabel(xlabel)\n",
      "    plt.ylabel(ylabel)      \n",
      "\n",
      "    # Remove last blank column\n",
      "    plt.xlim( (0, AUC.shape[1]) )\n",
      "\n",
      "    # Turn off all the ticks\n",
      "    ax = plt.gca()    \n",
      "    for t in ax.xaxis.get_major_ticks():\n",
      "        t.tick1On = False\n",
      "        t.tick2On = False\n",
      "    for t in ax.yaxis.get_major_ticks():\n",
      "        t.tick1On = False\n",
      "        t.tick2On = False\n",
      "\n",
      "    # Add color bar\n",
      "    plt.colorbar(c)\n",
      "\n",
      "    # Add text in each cell \n",
      "    show_values(c)\n",
      "\n",
      "    # Proper orientation (origin at the top left instead of bottom left)\n",
      "    if correct_orientation:\n",
      "        ax.invert_yaxis()\n",
      "        ax.xaxis.tick_top()       \n",
      "\n",
      "    # resize \n",
      "    fig = plt.gcf()\n",
      "    #fig.set_size_inches(cm2inch(40, 20))\n",
      "    #fig.set_size_inches(cm2inch(40*4, 20*4))\n",
      "    fig.set_size_inches(cm2inch(figure_width, figure_height))\n",
      "\n",
      "\n",
      "\n",
      "def plot_classification_report(classification_report, title='Classification report ', cmap='RdBu'):\n",
      "    '''\n",
      "    Plot scikit-learn classification report.\n",
      "    Extension based on http://stackoverflow.com/a/31689645/395857 \n",
      "    '''\n",
      "    lines = classification_report.split('\\n')\n",
      "\n",
      "    classes = []\n",
      "    plotMat = []\n",
      "    support = []\n",
      "    class_names = []\n",
      "    for line in lines[2 : (len(lines) - 2)]:\n",
      "        t = line.strip().split()\n",
      "        if len(t) < 2: continue\n",
      "        classes.append(t[0])\n",
      "        v = [float(x) for x in t[1: len(t) - 1]]\n",
      "        support.append(int(t[-1]))\n",
      "        class_names.append(t[0])\n",
      "        print(v)\n",
      "        plotMat.append(v)\n",
      "\n",
      "    print('plotMat: {0}'.format(plotMat))\n",
      "    print('support: {0}'.format(support))\n",
      "\n",
      "    xlabel = 'Metrics'\n",
      "    ylabel = 'Classes'\n",
      "    xticklabels = ['Precision', 'Recall', 'F1-score']\n",
      "    yticklabels = ['{0} ({1})'.format(class_names[idx], sup) for idx, sup  in enumerate(support)]\n",
      "    figure_width = 25\n",
      "    figure_height = len(class_names) + 7\n",
      "    correct_orientation = False\n",
      "    heatmap(np.array(plotMat), title, xlabel, ylabel, xticklabels, yticklabels, figure_width, figure_height, correct_orientation, cmap=cmap)\n",
      "\n"
     ],
     "language": "python",
     "metadata": {},
     "outputs": [],
     "prompt_number": 15
    },
    {
     "cell_type": "code",
     "collapsed": false,
     "input": [
      "batch_size = 128\n",
      "filter_sizeList = [2,4,8,16]\n",
      "embedding_size = lengthEmbedding\n",
      "vocabulary_size = lengthVocabulary\n",
      "depth = 256\n",
      "num_hidden = 64\n",
      "beta = 0.001\n",
      "keep_drop = 0.7\n",
      "num_steps = 6001\n",
      "sequence_length = sentenceLength\n",
      "num_filters_total = depth * len(filter_sizeList)\n",
      "lr = 0.005\n",
      "\n",
      "graph = tf.Graph()\n",
      "\n",
      "with graph.as_default():\n",
      "\n",
      "  # Input data.\n",
      "  tf_train_dataset = tf.placeholder(\n",
      "    tf.int64, shape=(batch_size,sequence_length,1))\n",
      "  tf_train_labels = tf.placeholder(tf.float32, shape=(batch_size, num_labels))\n",
      "  tf_valid_dataset = tf.constant(valid_dataset)\n",
      "  tf_test_dataset = tf.constant(test_dataset)\n",
      "  #tf_pretrained_embedding = tf.placeholder(tf.float32, shape=(vocabulary_size,embedding_size))\n",
      "  #Variable\n",
      "  embeddings = tf.Variable(wordEmbedding,dtype=tf.float32)\n",
      "  #embeddings.assign(tf_pretrained_embedding)\n",
      "\n",
      "  layer1_weightsList = []\n",
      "  layer1_biasesList = []\n",
      "  for i in range(0,len(filter_sizeList)):\n",
      "      layer1_weightsList.append(tf.Variable(tf.truncated_normal([filter_sizeList[i], embedding_size, num_channels, depth], stddev=0.1)))\n",
      "      layer1_biasesList.append(tf.Variable(tf.zeros([depth])))\n",
      "        \n",
      "  #layer2_weights = tf.Variable(tf.truncated_normal([num_filters_total, num_hidden], stddev=0.1))\n",
      "  #layer2_biases = tf.Variable(tf.constant(1.0, shape=[num_hidden]))      \n",
      "        \n",
      "  layer3_weights = tf.Variable(tf.truncated_normal([num_filters_total, num_labels], stddev=0.1))\n",
      "  layer3_biases = tf.Variable(tf.constant(1.0, shape=[num_labels]))\n",
      "        \n",
      "  # Model.\n",
      "  def model(data,dropout_flag,filter_sizeList):\n",
      "            \n",
      "    embed = tf.nn.embedding_lookup(embeddings,data[:,:,0])\n",
      "    \n",
      "    newEmbed = tf.expand_dims(embed , -1)\n",
      "    \n",
      "    allMaxPoolingLayer = []\n",
      "    l2_loss_term = tf.constant(0.0)\n",
      "    i = 0\n",
      "    for filter_size in filter_sizeList:\n",
      "        conv = tf.nn.conv2d(newEmbed, layer1_weightsList[i], [1, 1 , 1, 1], padding='VALID',use_cudnn_on_gpu=True)\n",
      "        hidden = tf.nn.relu(conv + layer1_biasesList[i])\n",
      "        if dropout_flag == 1:\n",
      "            hidden = tf.nn.dropout(hidden,keep_drop)\n",
      "        pooling = tf.nn.max_pool(hidden, [ 1,sequence_length - filter_size + 1,1,1 ] , [1, 1,1, 1], padding='VALID')\n",
      "        allMaxPoolingLayer.append(pooling)\n",
      "        \n",
      "        l2_loss_term = l2_loss_term + tf.nn.l2_loss(layer1_weightsList[i]) + tf.nn.l2_loss(layer1_biasesList[i])\n",
      "        i = i+1\n",
      "    allMaxPoolingLayer_T = tf.concat(3,allMaxPoolingLayer)\n",
      "    \n",
      "    reshape = tf.reshape(allMaxPoolingLayer_T, [ -1, num_filters_total ])\n",
      "    if dropout_flag == 1:\n",
      "        reshape = tf.nn.dropout(reshape,keep_drop)\n",
      "\n",
      "    scores = tf.matmul(reshape, layer3_weights) + layer3_biases\n",
      "    l2_loss_term = l2_loss_term + tf.nn.l2_loss(layer3_weights) + tf.nn.l2_loss(layer3_biases)\n",
      "\n",
      "    return scores,l2_loss_term\n",
      "  \n",
      "  # Training computation.\n",
      "  #embedding.assign(tf_train_dataset)\n",
      "  logits,l2_loss_term = model(tf_train_dataset,1,filter_sizeList)\n",
      "  loss = tf.reduce_mean(\n",
      "    tf.nn.softmax_cross_entropy_with_logits(logits, tf_train_labels)) + beta* ( l2_loss_term )\n",
      "    \n",
      "  # Optimizer.\n",
      "  global_step = tf.Variable(0)  # count the number of steps taken.\n",
      "  learning_rate = tf.train.exponential_decay(lr, global_step, num_steps, 0.96)\n",
      "  optimizer = tf.train.GradientDescentOptimizer(learning_rate).minimize(loss, global_step=global_step)\n",
      "  \n",
      "  # Predictions for the training, validation, and test data.\n",
      "  train_prediction = tf.nn.softmax(logits)\n",
      "  valid_prediction = tf.nn.softmax(model(tf_valid_dataset,0,filter_sizeList)[0])\n",
      "  test_prediction = tf.nn.softmax(model(tf_test_dataset,0,filter_sizeList)[0])"
     ],
     "language": "python",
     "metadata": {},
     "outputs": [],
     "prompt_number": 26
    },
    {
     "cell_type": "code",
     "collapsed": false,
     "input": [
      "train_plot_x = []\n",
      "train_plot_y = []\n",
      "valid_plot_y = []\n",
      "\n",
      "with tf.Session(graph=graph) as session:\n",
      "  tf.initialize_all_variables().run()\n",
      "  print('Initialized')\n",
      "  for step in range(num_steps):\n",
      "    offset = (step * batch_size) % (train_labels.shape[0] - batch_size)\n",
      "    batch_data = train_dataset[offset:(offset + batch_size), :, :]\n",
      "    batch_labels = train_labels[offset:(offset + batch_size), :]\n",
      "    feed_dict = {tf_train_dataset : batch_data, tf_train_labels : batch_labels}\n",
      "    _, l, predictions = session.run(\n",
      "      [optimizer, loss, train_prediction], feed_dict=feed_dict)\n",
      "    if (step % 50 == 0):\n",
      "      print('Minibatch loss at step %d: %f' % (step, l))\n",
      "      print('Minibatch accuracy: %.1f%%' % accuracy(predictions, batch_labels))\n",
      "      train_plot_x.append(step)\n",
      "      train_plot_y.append(accuracy(predictions, batch_labels))\n",
      "        \n",
      "      print('Validation accuracy: %.1f%%' % accuracy(\n",
      "        valid_prediction.eval(), valid_labels))\n",
      "      valid_plot_y.append(accuracy(valid_prediction.eval(), valid_labels))\n",
      "\n",
      "  print('Test accuracy: %.1f%%' % accuracy(test_prediction.eval(), test_labels))\n",
      "  classificationReport = classification_report(np.argmax(test_labels,1), np.argmax(test_prediction.eval(),1))\n"
     ],
     "language": "python",
     "metadata": {},
     "outputs": [
      {
       "output_type": "stream",
       "stream": "stdout",
       "text": [
        "Initialized\n",
        "Minibatch loss at step 0: 8.271300"
       ]
      },
      {
       "output_type": "stream",
       "stream": "stdout",
       "text": [
        "\n",
        "Minibatch accuracy: 50.0%\n",
        "Validation accuracy: 49.8%"
       ]
      },
      {
       "output_type": "stream",
       "stream": "stdout",
       "text": [
        "\n",
        "Minibatch loss at step 50: 7.957870"
       ]
      },
      {
       "output_type": "stream",
       "stream": "stdout",
       "text": [
        "\n",
        "Minibatch accuracy: 55.5%\n",
        "Validation accuracy: 35.7%\n",
        "Minibatch loss at step 100: 5.203209"
       ]
      },
      {
       "output_type": "stream",
       "stream": "stdout",
       "text": [
        "\n",
        "Minibatch accuracy: 43.8%\n",
        "Validation accuracy: 51.0%\n",
        "Minibatch loss at step 150: 5.611192"
       ]
      },
      {
       "output_type": "stream",
       "stream": "stdout",
       "text": [
        "\n",
        "Minibatch accuracy: 53.9%\n",
        "Validation accuracy: 47.3%\n",
        "Minibatch loss at step 200: 4.093867"
       ]
      },
      {
       "output_type": "stream",
       "stream": "stdout",
       "text": [
        "\n",
        "Minibatch accuracy: 60.2%\n",
        "Validation accuracy: 49.0%\n",
        "Minibatch loss at step 250: 6.009930"
       ]
      },
      {
       "output_type": "stream",
       "stream": "stdout",
       "text": [
        "\n",
        "Minibatch accuracy: 59.4%\n",
        "Validation accuracy: 48.8%\n",
        "Minibatch loss at step 300: 6.714728"
       ]
      },
      {
       "output_type": "stream",
       "stream": "stdout",
       "text": [
        "\n",
        "Minibatch accuracy: 43.8%\n",
        "Validation accuracy: 43.0%\n",
        "Minibatch loss at step 350: 5.831351"
       ]
      },
      {
       "output_type": "stream",
       "stream": "stdout",
       "text": [
        "\n",
        "Minibatch accuracy: 50.0%\n",
        "Validation accuracy: 39.7%\n",
        "Minibatch loss at step 400: 3.336943"
       ]
      },
      {
       "output_type": "stream",
       "stream": "stdout",
       "text": [
        "\n",
        "Minibatch accuracy: 55.5%\n",
        "Validation accuracy: 53.3%\n",
        "Minibatch loss at step 450: 5.290174"
       ]
      },
      {
       "output_type": "stream",
       "stream": "stdout",
       "text": [
        "\n",
        "Minibatch accuracy: 50.8%\n",
        "Validation accuracy: 47.2%\n",
        "Minibatch loss at step 500: 3.854441"
       ]
      },
      {
       "output_type": "stream",
       "stream": "stdout",
       "text": [
        "\n",
        "Minibatch accuracy: 54.7%\n",
        "Validation accuracy: 44.3%\n",
        "Minibatch loss at step 550: 3.184967"
       ]
      },
      {
       "output_type": "stream",
       "stream": "stdout",
       "text": [
        "\n",
        "Minibatch accuracy: 53.9%\n",
        "Validation accuracy: 52.3%\n",
        "Minibatch loss at step 600: 3.358576"
       ]
      },
      {
       "output_type": "stream",
       "stream": "stdout",
       "text": [
        "\n",
        "Minibatch accuracy: 57.8%\n",
        "Validation accuracy: 47.0%\n",
        "Minibatch loss at step 650: 3.955254"
       ]
      },
      {
       "output_type": "stream",
       "stream": "stdout",
       "text": [
        "\n",
        "Minibatch accuracy: 41.4%\n",
        "Validation accuracy: 51.0%\n",
        "Minibatch loss at step 700: 3.470953"
       ]
      },
      {
       "output_type": "stream",
       "stream": "stdout",
       "text": [
        "\n",
        "Minibatch accuracy: 64.1%\n",
        "Validation accuracy: 52.5%\n",
        "Minibatch loss at step 750: 2.868598"
       ]
      },
      {
       "output_type": "stream",
       "stream": "stdout",
       "text": [
        "\n",
        "Minibatch accuracy: 67.2%\n",
        "Validation accuracy: 53.0%\n",
        "Minibatch loss at step 800: 3.052358"
       ]
      },
      {
       "output_type": "stream",
       "stream": "stdout",
       "text": [
        "\n",
        "Minibatch accuracy: 57.8%\n",
        "Validation accuracy: 53.2%\n",
        "Minibatch loss at step 850: 4.162443"
       ]
      },
      {
       "output_type": "stream",
       "stream": "stdout",
       "text": [
        "\n",
        "Minibatch accuracy: 40.6%\n",
        "Validation accuracy: 51.7%\n",
        "Minibatch loss at step 900: 3.162315"
       ]
      },
      {
       "output_type": "stream",
       "stream": "stdout",
       "text": [
        "\n",
        "Minibatch accuracy: 56.2%\n",
        "Validation accuracy: 53.0%\n",
        "Minibatch loss at step 950: 3.804908"
       ]
      },
      {
       "output_type": "stream",
       "stream": "stdout",
       "text": [
        "\n",
        "Minibatch accuracy: 40.6%\n",
        "Validation accuracy: 52.0%\n",
        "Minibatch loss at step 1000: 3.080557"
       ]
      },
      {
       "output_type": "stream",
       "stream": "stdout",
       "text": [
        "\n",
        "Minibatch accuracy: 67.2%\n",
        "Validation accuracy: 54.8%\n",
        "Minibatch loss at step 1050: 2.913355"
       ]
      },
      {
       "output_type": "stream",
       "stream": "stdout",
       "text": [
        "\n",
        "Minibatch accuracy: 57.0%\n",
        "Validation accuracy: 55.5%\n",
        "Minibatch loss at step 1100: 2.614869"
       ]
      },
      {
       "output_type": "stream",
       "stream": "stdout",
       "text": [
        "\n",
        "Minibatch accuracy: 58.6%\n",
        "Validation accuracy: 55.0%\n",
        "Minibatch loss at step 1150: 3.267211"
       ]
      },
      {
       "output_type": "stream",
       "stream": "stdout",
       "text": [
        "\n",
        "Minibatch accuracy: 57.0%\n",
        "Validation accuracy: 43.8%\n",
        "Minibatch loss at step 1200: 2.542081"
       ]
      },
      {
       "output_type": "stream",
       "stream": "stdout",
       "text": [
        "\n",
        "Minibatch accuracy: 59.4%\n",
        "Validation accuracy: 54.2%\n",
        "Minibatch loss at step 1250: 2.405993"
       ]
      },
      {
       "output_type": "stream",
       "stream": "stdout",
       "text": [
        "\n",
        "Minibatch accuracy: 54.7%\n",
        "Validation accuracy: 56.7%\n",
        "Minibatch loss at step 1300: 2.536339"
       ]
      },
      {
       "output_type": "stream",
       "stream": "stdout",
       "text": [
        "\n",
        "Minibatch accuracy: 60.2%\n",
        "Validation accuracy: 54.2%\n",
        "Minibatch loss at step 1350: 2.761244"
       ]
      },
      {
       "output_type": "stream",
       "stream": "stdout",
       "text": [
        "\n",
        "Minibatch accuracy: 53.9%\n",
        "Validation accuracy: 54.0%\n",
        "Minibatch loss at step 1400: 2.688685"
       ]
      },
      {
       "output_type": "stream",
       "stream": "stdout",
       "text": [
        "\n",
        "Minibatch accuracy: 51.6%\n",
        "Validation accuracy: 52.0%\n",
        "Minibatch loss at step 1450: 2.614690"
       ]
      },
      {
       "output_type": "stream",
       "stream": "stdout",
       "text": [
        "\n",
        "Minibatch accuracy: 53.9%\n",
        "Validation accuracy: 50.0%\n",
        "Minibatch loss at step 1500: 2.533279"
       ]
      },
      {
       "output_type": "stream",
       "stream": "stdout",
       "text": [
        "\n",
        "Minibatch accuracy: 56.2%\n",
        "Validation accuracy: 54.8%\n",
        "Minibatch loss at step 1550: 2.731899"
       ]
      },
      {
       "output_type": "stream",
       "stream": "stdout",
       "text": [
        "\n",
        "Minibatch accuracy: 50.8%\n",
        "Validation accuracy: 52.5%\n",
        "Minibatch loss at step 1600: 3.186527"
       ]
      },
      {
       "output_type": "stream",
       "stream": "stdout",
       "text": [
        "\n",
        "Minibatch accuracy: 60.2%\n",
        "Validation accuracy: 56.2%\n",
        "Minibatch loss at step 1650: 2.358465"
       ]
      },
      {
       "output_type": "stream",
       "stream": "stdout",
       "text": [
        "\n",
        "Minibatch accuracy: 63.3%\n",
        "Validation accuracy: 55.8%\n",
        "Minibatch loss at step 1700: 2.377583"
       ]
      },
      {
       "output_type": "stream",
       "stream": "stdout",
       "text": [
        "\n",
        "Minibatch accuracy: 63.3%\n",
        "Validation accuracy: 54.8%\n",
        "Minibatch loss at step 1750: 2.702694"
       ]
      },
      {
       "output_type": "stream",
       "stream": "stdout",
       "text": [
        "\n",
        "Minibatch accuracy: 57.0%\n",
        "Validation accuracy: 43.7%\n",
        "Minibatch loss at step 1800: 2.415324"
       ]
      },
      {
       "output_type": "stream",
       "stream": "stdout",
       "text": [
        "\n",
        "Minibatch accuracy: 64.1%\n",
        "Validation accuracy: 56.5%\n",
        "Minibatch loss at step 1850: 2.610123"
       ]
      },
      {
       "output_type": "stream",
       "stream": "stdout",
       "text": [
        "\n",
        "Minibatch accuracy: 52.3%\n",
        "Validation accuracy: 53.8%\n",
        "Minibatch loss at step 1900: 2.897415"
       ]
      },
      {
       "output_type": "stream",
       "stream": "stdout",
       "text": [
        "\n",
        "Minibatch accuracy: 58.6%\n",
        "Validation accuracy: 49.3%\n",
        "Minibatch loss at step 1950: 2.321945"
       ]
      },
      {
       "output_type": "stream",
       "stream": "stdout",
       "text": [
        "\n",
        "Minibatch accuracy: 62.5%\n",
        "Validation accuracy: 56.2%\n",
        "Minibatch loss at step 2000: 2.687302"
       ]
      },
      {
       "output_type": "stream",
       "stream": "stdout",
       "text": [
        "\n",
        "Minibatch accuracy: 64.1%\n",
        "Validation accuracy: 53.8%\n",
        "Minibatch loss at step 2050: 2.229766"
       ]
      },
      {
       "output_type": "stream",
       "stream": "stdout",
       "text": [
        "\n",
        "Minibatch accuracy: 68.0%\n",
        "Validation accuracy: 54.8%\n",
        "Minibatch loss at step 2100: 2.212977"
       ]
      },
      {
       "output_type": "stream",
       "stream": "stdout",
       "text": [
        "\n",
        "Minibatch accuracy: 65.6%\n",
        "Validation accuracy: 56.5%\n",
        "Minibatch loss at step 2150: 2.438362"
       ]
      },
      {
       "output_type": "stream",
       "stream": "stdout",
       "text": [
        "\n",
        "Minibatch accuracy: 62.5%\n",
        "Validation accuracy: 49.7%\n",
        "Minibatch loss at step 2200: 2.374564"
       ]
      },
      {
       "output_type": "stream",
       "stream": "stdout",
       "text": [
        "\n",
        "Minibatch accuracy: 59.4%\n",
        "Validation accuracy: 54.2%\n",
        "Minibatch loss at step 2250: 2.227783"
       ]
      },
      {
       "output_type": "stream",
       "stream": "stdout",
       "text": [
        "\n",
        "Minibatch accuracy: 65.6%\n",
        "Validation accuracy: 57.5%\n",
        "Minibatch loss at step 2300: 2.351038"
       ]
      },
      {
       "output_type": "stream",
       "stream": "stdout",
       "text": [
        "\n",
        "Minibatch accuracy: 63.3%\n",
        "Validation accuracy: 49.5%\n",
        "Minibatch loss at step 2350: 2.354878"
       ]
      },
      {
       "output_type": "stream",
       "stream": "stdout",
       "text": [
        "\n",
        "Minibatch accuracy: 60.9%\n",
        "Validation accuracy: 56.8%\n",
        "Minibatch loss at step 2400: 2.211623"
       ]
      },
      {
       "output_type": "stream",
       "stream": "stdout",
       "text": [
        "\n",
        "Minibatch accuracy: 66.4%\n",
        "Validation accuracy: 56.8%\n",
        "Minibatch loss at step 2450: 2.497807"
       ]
      },
      {
       "output_type": "stream",
       "stream": "stdout",
       "text": [
        "\n",
        "Minibatch accuracy: 56.2%\n",
        "Validation accuracy: 48.5%\n",
        "Minibatch loss at step 2500: 2.549979"
       ]
      },
      {
       "output_type": "stream",
       "stream": "stdout",
       "text": [
        "\n",
        "Minibatch accuracy: 59.4%\n",
        "Validation accuracy: 51.3%\n",
        "Minibatch loss at step 2550: 2.227683"
       ]
      },
      {
       "output_type": "stream",
       "stream": "stdout",
       "text": [
        "\n",
        "Minibatch accuracy: 62.5%\n",
        "Validation accuracy: 56.7%\n",
        "Minibatch loss at step 2600: 2.364332"
       ]
      },
      {
       "output_type": "stream",
       "stream": "stdout",
       "text": [
        "\n",
        "Minibatch accuracy: 60.9%\n",
        "Validation accuracy: 55.5%\n",
        "Minibatch loss at step 2650: 2.285095"
       ]
      },
      {
       "output_type": "stream",
       "stream": "stdout",
       "text": [
        "\n",
        "Minibatch accuracy: 65.6%\n",
        "Validation accuracy: 56.2%\n",
        "Minibatch loss at step 2700: 2.301634"
       ]
      },
      {
       "output_type": "stream",
       "stream": "stdout",
       "text": [
        "\n",
        "Minibatch accuracy: 53.9%\n",
        "Validation accuracy: 54.8%\n",
        "Minibatch loss at step 2750: 2.202682"
       ]
      },
      {
       "output_type": "stream",
       "stream": "stdout",
       "text": [
        "\n",
        "Minibatch accuracy: 64.8%\n",
        "Validation accuracy: 56.7%\n",
        "Minibatch loss at step 2800: 2.123998"
       ]
      },
      {
       "output_type": "stream",
       "stream": "stdout",
       "text": [
        "\n",
        "Minibatch accuracy: 67.2%\n",
        "Validation accuracy: 56.8%\n",
        "Minibatch loss at step 2850: 2.329588"
       ]
      },
      {
       "output_type": "stream",
       "stream": "stdout",
       "text": [
        "\n",
        "Minibatch accuracy: 62.5%\n",
        "Validation accuracy: 54.8%\n",
        "Minibatch loss at step 2900: 2.241993"
       ]
      },
      {
       "output_type": "stream",
       "stream": "stdout",
       "text": [
        "\n",
        "Minibatch accuracy: 64.8%\n",
        "Validation accuracy: 55.0%\n",
        "Minibatch loss at step 2950: 2.218683"
       ]
      },
      {
       "output_type": "stream",
       "stream": "stdout",
       "text": [
        "\n",
        "Minibatch accuracy: 60.9%\n",
        "Validation accuracy: 54.7%\n",
        "Minibatch loss at step 3000: 2.188297"
       ]
      },
      {
       "output_type": "stream",
       "stream": "stdout",
       "text": [
        "\n",
        "Minibatch accuracy: 63.3%\n",
        "Validation accuracy: 56.2%\n",
        "Minibatch loss at step 3050: 2.075896"
       ]
      },
      {
       "output_type": "stream",
       "stream": "stdout",
       "text": [
        "\n",
        "Minibatch accuracy: 74.2%\n",
        "Validation accuracy: 55.8%\n",
        "Minibatch loss at step 3100: 2.247734"
       ]
      },
      {
       "output_type": "stream",
       "stream": "stdout",
       "text": [
        "\n",
        "Minibatch accuracy: 64.1%\n",
        "Validation accuracy: 54.3%\n",
        "Minibatch loss at step 3150: 2.180160"
       ]
      },
      {
       "output_type": "stream",
       "stream": "stdout",
       "text": [
        "\n",
        "Minibatch accuracy: 67.2%\n",
        "Validation accuracy: 55.8%\n",
        "Minibatch loss at step 3200: 2.225760"
       ]
      },
      {
       "output_type": "stream",
       "stream": "stdout",
       "text": [
        "\n",
        "Minibatch accuracy: 70.3%\n",
        "Validation accuracy: 56.8%\n",
        "Minibatch loss at step 3250: 2.479551"
       ]
      },
      {
       "output_type": "stream",
       "stream": "stdout",
       "text": [
        "\n",
        "Minibatch accuracy: 49.2%\n",
        "Validation accuracy: 53.0%\n",
        "Minibatch loss at step 3300: 2.117368"
       ]
      },
      {
       "output_type": "stream",
       "stream": "stdout",
       "text": [
        "\n",
        "Minibatch accuracy: 69.5%\n",
        "Validation accuracy: 55.5%\n",
        "Minibatch loss at step 3350: 2.329232"
       ]
      },
      {
       "output_type": "stream",
       "stream": "stdout",
       "text": [
        "\n",
        "Minibatch accuracy: 61.7%\n",
        "Validation accuracy: 56.5%\n",
        "Minibatch loss at step 3400: 2.167303"
       ]
      },
      {
       "output_type": "stream",
       "stream": "stdout",
       "text": [
        "\n",
        "Minibatch accuracy: 64.8%\n",
        "Validation accuracy: 55.5%\n",
        "Minibatch loss at step 3450: 2.244017"
       ]
      },
      {
       "output_type": "stream",
       "stream": "stdout",
       "text": [
        "\n",
        "Minibatch accuracy: 68.0%\n",
        "Validation accuracy: 55.3%\n",
        "Minibatch loss at step 3500: 2.077309"
       ]
      },
      {
       "output_type": "stream",
       "stream": "stdout",
       "text": [
        "\n",
        "Minibatch accuracy: 75.0%\n",
        "Validation accuracy: 56.7%\n",
        "Minibatch loss at step 3550: 2.144225"
       ]
      },
      {
       "output_type": "stream",
       "stream": "stdout",
       "text": [
        "\n",
        "Minibatch accuracy: 67.2%\n",
        "Validation accuracy: 55.3%\n",
        "Minibatch loss at step 3600: 2.070328"
       ]
      },
      {
       "output_type": "stream",
       "stream": "stdout",
       "text": [
        "\n",
        "Minibatch accuracy: 71.9%\n",
        "Validation accuracy: 55.3%\n",
        "Minibatch loss at step 3650: 2.416461"
       ]
      },
      {
       "output_type": "stream",
       "stream": "stdout",
       "text": [
        "\n",
        "Minibatch accuracy: 59.4%\n",
        "Validation accuracy: 54.3%\n",
        "Minibatch loss at step 3700: 2.200376"
       ]
      },
      {
       "output_type": "stream",
       "stream": "stdout",
       "text": [
        "\n",
        "Minibatch accuracy: 68.0%\n",
        "Validation accuracy: 56.7%\n",
        "Minibatch loss at step 3750: 2.192257"
       ]
      },
      {
       "output_type": "stream",
       "stream": "stdout",
       "text": [
        "\n",
        "Minibatch accuracy: 66.4%\n",
        "Validation accuracy: 55.2%\n",
        "Minibatch loss at step 3800: 2.092546"
       ]
      },
      {
       "output_type": "stream",
       "stream": "stdout",
       "text": [
        "\n",
        "Minibatch accuracy: 68.0%\n",
        "Validation accuracy: 54.8%\n",
        "Minibatch loss at step 3850: 2.107258"
       ]
      },
      {
       "output_type": "stream",
       "stream": "stdout",
       "text": [
        "\n",
        "Minibatch accuracy: 69.5%\n",
        "Validation accuracy: 56.2%\n",
        "Minibatch loss at step 3900: 2.105055"
       ]
      },
      {
       "output_type": "stream",
       "stream": "stdout",
       "text": [
        "\n",
        "Minibatch accuracy: 68.8%\n",
        "Validation accuracy: 57.3%\n",
        "Minibatch loss at step 3950: 2.235672"
       ]
      },
      {
       "output_type": "stream",
       "stream": "stdout",
       "text": [
        "\n",
        "Minibatch accuracy: 61.7%\n",
        "Validation accuracy: 56.8%\n",
        "Minibatch loss at step 4000: 2.137510"
       ]
      },
      {
       "output_type": "stream",
       "stream": "stdout",
       "text": [
        "\n",
        "Minibatch accuracy: 69.5%\n",
        "Validation accuracy: 55.0%\n",
        "Minibatch loss at step 4050: 2.212747"
       ]
      },
      {
       "output_type": "stream",
       "stream": "stdout",
       "text": [
        "\n",
        "Minibatch accuracy: 68.0%\n",
        "Validation accuracy: 57.0%\n",
        "Minibatch loss at step 4100: 2.079240"
       ]
      },
      {
       "output_type": "stream",
       "stream": "stdout",
       "text": [
        "\n",
        "Minibatch accuracy: 69.5%\n",
        "Validation accuracy: 56.5%\n",
        "Minibatch loss at step 4150: 2.051362"
       ]
      },
      {
       "output_type": "stream",
       "stream": "stdout",
       "text": [
        "\n",
        "Minibatch accuracy: 72.7%\n",
        "Validation accuracy: 57.3%\n",
        "Minibatch loss at step 4200: 2.056582"
       ]
      },
      {
       "output_type": "stream",
       "stream": "stdout",
       "text": [
        "\n",
        "Minibatch accuracy: 74.2%\n",
        "Validation accuracy: 54.7%\n",
        "Minibatch loss at step 4250: 2.087861"
       ]
      },
      {
       "output_type": "stream",
       "stream": "stdout",
       "text": [
        "\n",
        "Minibatch accuracy: 67.2%\n",
        "Validation accuracy: 57.8%\n",
        "Minibatch loss at step 4300: 1.973042"
       ]
      },
      {
       "output_type": "stream",
       "stream": "stdout",
       "text": [
        "\n",
        "Minibatch accuracy: 75.0%\n",
        "Validation accuracy: 55.5%\n",
        "Minibatch loss at step 4350: 2.017023"
       ]
      },
      {
       "output_type": "stream",
       "stream": "stdout",
       "text": [
        "\n",
        "Minibatch accuracy: 72.7%\n",
        "Validation accuracy: 56.2%\n",
        "Minibatch loss at step 4400: 1.930507"
       ]
      },
      {
       "output_type": "stream",
       "stream": "stdout",
       "text": [
        "\n",
        "Minibatch accuracy: 76.6%\n",
        "Validation accuracy: 56.8%\n",
        "Minibatch loss at step 4450: 2.069858"
       ]
      },
      {
       "output_type": "stream",
       "stream": "stdout",
       "text": [
        "\n",
        "Minibatch accuracy: 71.9%\n",
        "Validation accuracy: 57.2%\n",
        "Minibatch loss at step 4500: 2.124255"
       ]
      },
      {
       "output_type": "stream",
       "stream": "stdout",
       "text": [
        "\n",
        "Minibatch accuracy: 70.3%\n",
        "Validation accuracy: 55.5%\n",
        "Minibatch loss at step 4550: 2.085880"
       ]
      },
      {
       "output_type": "stream",
       "stream": "stdout",
       "text": [
        "\n",
        "Minibatch accuracy: 71.9%\n",
        "Validation accuracy: 57.3%\n",
        "Minibatch loss at step 4600: 2.075013"
       ]
      },
      {
       "output_type": "stream",
       "stream": "stdout",
       "text": [
        "\n",
        "Minibatch accuracy: 72.7%\n",
        "Validation accuracy: 56.8%\n",
        "Minibatch loss at step 4650: 1.945651"
       ]
      },
      {
       "output_type": "stream",
       "stream": "stdout",
       "text": [
        "\n",
        "Minibatch accuracy: 78.9%\n",
        "Validation accuracy: 56.8%\n",
        "Minibatch loss at step 4700: 2.279847"
       ]
      },
      {
       "output_type": "stream",
       "stream": "stdout",
       "text": [
        "\n",
        "Minibatch accuracy: 63.3%\n",
        "Validation accuracy: 54.0%\n",
        "Minibatch loss at step 4750: 1.973115"
       ]
      },
      {
       "output_type": "stream",
       "stream": "stdout",
       "text": [
        "\n",
        "Minibatch accuracy: 78.1%\n",
        "Validation accuracy: 55.2%\n",
        "Minibatch loss at step 4800: 2.133528"
       ]
      },
      {
       "output_type": "stream",
       "stream": "stdout",
       "text": [
        "\n",
        "Minibatch accuracy: 72.7%\n",
        "Validation accuracy: 56.8%\n",
        "Minibatch loss at step 4850: 2.214340"
       ]
      },
      {
       "output_type": "stream",
       "stream": "stdout",
       "text": [
        "\n",
        "Minibatch accuracy: 68.0%\n",
        "Validation accuracy: 54.8%\n",
        "Minibatch loss at step 4900: 2.067261"
       ]
      },
      {
       "output_type": "stream",
       "stream": "stdout",
       "text": [
        "\n",
        "Minibatch accuracy: 66.4%\n",
        "Validation accuracy: 56.3%\n",
        "Minibatch loss at step 4950: 2.129974"
       ]
      },
      {
       "output_type": "stream",
       "stream": "stdout",
       "text": [
        "\n",
        "Minibatch accuracy: 63.3%\n",
        "Validation accuracy: 56.7%\n",
        "Minibatch loss at step 5000: 2.161390"
       ]
      },
      {
       "output_type": "stream",
       "stream": "stdout",
       "text": [
        "\n",
        "Minibatch accuracy: 68.8%\n",
        "Validation accuracy: 57.2%\n",
        "Minibatch loss at step 5050: 2.053726"
       ]
      },
      {
       "output_type": "stream",
       "stream": "stdout",
       "text": [
        "\n",
        "Minibatch accuracy: 68.8%\n",
        "Validation accuracy: 55.5%\n",
        "Minibatch loss at step 5100: 2.100806"
       ]
      },
      {
       "output_type": "stream",
       "stream": "stdout",
       "text": [
        "\n",
        "Minibatch accuracy: 62.5%\n",
        "Validation accuracy: 56.0%\n",
        "Minibatch loss at step 5150: 2.092764"
       ]
      },
      {
       "output_type": "stream",
       "stream": "stdout",
       "text": [
        "\n",
        "Minibatch accuracy: 68.8%\n",
        "Validation accuracy: 56.5%\n",
        "Minibatch loss at step 5200: 2.129807"
       ]
      },
      {
       "output_type": "stream",
       "stream": "stdout",
       "text": [
        "\n",
        "Minibatch accuracy: 69.5%\n",
        "Validation accuracy: 55.8%\n",
        "Minibatch loss at step 5250: 1.980711"
       ]
      },
      {
       "output_type": "stream",
       "stream": "stdout",
       "text": [
        "\n",
        "Minibatch accuracy: 72.7%\n",
        "Validation accuracy: 56.7%\n",
        "Minibatch loss at step 5300: 2.070414"
       ]
      },
      {
       "output_type": "stream",
       "stream": "stdout",
       "text": [
        "\n",
        "Minibatch accuracy: 67.2%\n",
        "Validation accuracy: 55.3%\n",
        "Minibatch loss at step 5350: 2.118632"
       ]
      },
      {
       "output_type": "stream",
       "stream": "stdout",
       "text": [
        "\n",
        "Minibatch accuracy: 69.5%\n",
        "Validation accuracy: 56.2%\n",
        "Minibatch loss at step 5400: 2.018447"
       ]
      },
      {
       "output_type": "stream",
       "stream": "stdout",
       "text": [
        "\n",
        "Minibatch accuracy: 71.9%\n",
        "Validation accuracy: 56.5%\n",
        "Minibatch loss at step 5450: 1.980770"
       ]
      },
      {
       "output_type": "stream",
       "stream": "stdout",
       "text": [
        "\n",
        "Minibatch accuracy: 70.3%\n",
        "Validation accuracy: 56.7%\n",
        "Minibatch loss at step 5500: 2.016654"
       ]
      },
      {
       "output_type": "stream",
       "stream": "stdout",
       "text": [
        "\n",
        "Minibatch accuracy: 71.1%\n",
        "Validation accuracy: 57.2%\n",
        "Minibatch loss at step 5550: 2.062424"
       ]
      },
      {
       "output_type": "stream",
       "stream": "stdout",
       "text": [
        "\n",
        "Minibatch accuracy: 73.4%\n",
        "Validation accuracy: 56.3%\n",
        "Minibatch loss at step 5600: 1.963193"
       ]
      },
      {
       "output_type": "stream",
       "stream": "stdout",
       "text": [
        "\n",
        "Minibatch accuracy: 72.7%\n",
        "Validation accuracy: 56.0%\n",
        "Minibatch loss at step 5650: 2.184949"
       ]
      },
      {
       "output_type": "stream",
       "stream": "stdout",
       "text": [
        "\n",
        "Minibatch accuracy: 68.8%\n",
        "Validation accuracy: 55.5%\n",
        "Minibatch loss at step 5700: 1.933120"
       ]
      },
      {
       "output_type": "stream",
       "stream": "stdout",
       "text": [
        "\n",
        "Minibatch accuracy: 76.6%\n",
        "Validation accuracy: 56.8%\n",
        "Minibatch loss at step 5750: 1.955921"
       ]
      },
      {
       "output_type": "stream",
       "stream": "stdout",
       "text": [
        "\n",
        "Minibatch accuracy: 75.8%\n",
        "Validation accuracy: 56.0%\n",
        "Minibatch loss at step 5800: 1.958236"
       ]
      },
      {
       "output_type": "stream",
       "stream": "stdout",
       "text": [
        "\n",
        "Minibatch accuracy: 76.6%\n",
        "Validation accuracy: 55.0%\n",
        "Minibatch loss at step 5850: 2.021589"
       ]
      },
      {
       "output_type": "stream",
       "stream": "stdout",
       "text": [
        "\n",
        "Minibatch accuracy: 71.1%\n",
        "Validation accuracy: 55.8%\n",
        "Minibatch loss at step 5900: 1.931095"
       ]
      },
      {
       "output_type": "stream",
       "stream": "stdout",
       "text": [
        "\n",
        "Minibatch accuracy: 79.7%\n",
        "Validation accuracy: 56.5%\n",
        "Minibatch loss at step 5950: 2.068501"
       ]
      },
      {
       "output_type": "stream",
       "stream": "stdout",
       "text": [
        "\n",
        "Minibatch accuracy: 68.8%\n",
        "Validation accuracy: 55.3%\n",
        "Minibatch loss at step 6000: 1.922724"
       ]
      },
      {
       "output_type": "stream",
       "stream": "stdout",
       "text": [
        "\n",
        "Minibatch accuracy: 74.2%\n",
        "Validation accuracy: 56.8%\n",
        "Test accuracy: 60.0%"
       ]
      },
      {
       "output_type": "stream",
       "stream": "stdout",
       "text": [
        "\n"
       ]
      }
     ],
     "prompt_number": 27
    },
    {
     "cell_type": "code",
     "collapsed": false,
     "input": [
      "print(classificationReport)\n",
      "plot_classification_report(classificationReport)\n",
      "plt.savefig('cnn_glove_plot_classif_report.png', dpi=200, format='png', bbox_inches='tight')\n",
      "plt.close()"
     ],
     "language": "python",
     "metadata": {},
     "outputs": [
      {
       "output_type": "stream",
       "stream": "stdout",
       "text": [
        "             precision    recall  f1-score   support\n",
        "\n",
        "          0       0.40      0.25      0.30        77\n",
        "          1       0.51      0.54      0.52       215\n",
        "          2       0.69      0.73      0.71       308\n",
        "\n",
        "avg / total       0.59      0.60      0.59       600\n",
        "\n",
        "[0.4, 0.25, 0.3]\n",
        "[0.51, 0.54, 0.52]\n",
        "[0.69, 0.73, 0.71]\n",
        "plotMat: [[0.4, 0.25, 0.3], [0.51, 0.54, 0.52], [0.69, 0.73, 0.71]]\n",
        "support: [77, 215, 308]\n"
       ]
      }
     ],
     "prompt_number": 29
    },
    {
     "cell_type": "code",
     "collapsed": false,
     "input": [],
     "language": "python",
     "metadata": {},
     "outputs": []
    }
   ],
   "metadata": {}
  }
 ]
}